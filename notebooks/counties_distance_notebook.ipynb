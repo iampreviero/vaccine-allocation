{
 "cells": [
  {
   "cell_type": "markdown",
   "metadata": {
    "collapsed": true
   },
   "source": [
    "# Counties coordinates (lat, lon)\n",
    "**Runs in about 30 s**"
   ]
  },
  {
   "cell_type": "markdown",
   "metadata": {},
   "source": [
    "Two files are required to execute this code\n",
    "- The top 500 cities in the US by population, based on 2010 census. Can be found at:\n",
    "https://chronicdata.cdc.gov/500-Cities-Places/500-Cities-City-level-Data-GIS-Friendly-Format-201/pf7q-w24q\n",
    "\n",
    "- All the US counties with the geolocation. Can be found at: https://www.weather.gov/gis/counties"
   ]
  },
  {
   "cell_type": "code",
   "execution_count": 25,
   "metadata": {},
   "outputs": [],
   "source": [
    "# Import base packages\n",
    "import pandas as pd\n",
    "import numpy as np\n",
    "import shapefile\n",
    "import geopy.distance as gd\n",
    "from fastkml import kml"
   ]
  },
  {
   "cell_type": "code",
   "execution_count": 26,
   "metadata": {},
   "outputs": [],
   "source": [
    "# Specify absolute path (this is where you stored the downloaded files above)\n",
    "coords_dir = \"/Users/alessandropreviero/Desktop/vaccine-allocation/notebooks/counties_geo_clean.csv\"\n",
    "top_cities_dir = \"/Users/alessandropreviero/Downloads/top500.csv\""
   ]
  },
  {
   "cell_type": "markdown",
   "metadata": {},
   "source": [
    "### Read top cities"
   ]
  },
  {
   "cell_type": "code",
   "execution_count": 27,
   "metadata": {},
   "outputs": [
    {
     "data": {
      "text/html": [
       "<div>\n",
       "<style scoped>\n",
       "    .dataframe tbody tr th:only-of-type {\n",
       "        vertical-align: middle;\n",
       "    }\n",
       "\n",
       "    .dataframe tbody tr th {\n",
       "        vertical-align: top;\n",
       "    }\n",
       "\n",
       "    .dataframe thead th {\n",
       "        text-align: right;\n",
       "    }\n",
       "</style>\n",
       "<table border=\"1\" class=\"dataframe\">\n",
       "  <thead>\n",
       "    <tr style=\"text-align: right;\">\n",
       "      <th></th>\n",
       "      <th>state</th>\n",
       "      <th>city</th>\n",
       "      <th>population</th>\n",
       "      <th>geolocation</th>\n",
       "    </tr>\n",
       "  </thead>\n",
       "  <tbody>\n",
       "    <tr>\n",
       "      <th>0</th>\n",
       "      <td>NY</td>\n",
       "      <td>New York</td>\n",
       "      <td>8175133</td>\n",
       "      <td>(40.694960689, -73.9313850409)</td>\n",
       "    </tr>\n",
       "    <tr>\n",
       "      <th>1</th>\n",
       "      <td>CA</td>\n",
       "      <td>Los Angeles</td>\n",
       "      <td>3792621</td>\n",
       "      <td>(34.1182277898, -118.408500088)</td>\n",
       "    </tr>\n",
       "    <tr>\n",
       "      <th>2</th>\n",
       "      <td>IL</td>\n",
       "      <td>Chicago</td>\n",
       "      <td>2695598</td>\n",
       "      <td>(41.8372950615, -87.6862308732)</td>\n",
       "    </tr>\n",
       "    <tr>\n",
       "      <th>3</th>\n",
       "      <td>TX</td>\n",
       "      <td>Houston</td>\n",
       "      <td>2099451</td>\n",
       "      <td>(29.7806691396, -95.3860033966)</td>\n",
       "    </tr>\n",
       "    <tr>\n",
       "      <th>4</th>\n",
       "      <td>PA</td>\n",
       "      <td>Philadelphia</td>\n",
       "      <td>1526006</td>\n",
       "      <td>(40.0093147808, -75.1333888571)</td>\n",
       "    </tr>\n",
       "  </tbody>\n",
       "</table>\n",
       "</div>"
      ],
      "text/plain": [
       "  state          city  population                      geolocation\n",
       "0    NY      New York     8175133   (40.694960689, -73.9313850409)\n",
       "1    CA   Los Angeles     3792621  (34.1182277898, -118.408500088)\n",
       "2    IL       Chicago     2695598  (41.8372950615, -87.6862308732)\n",
       "3    TX       Houston     2099451  (29.7806691396, -95.3860033966)\n",
       "4    PA  Philadelphia     1526006  (40.0093147808, -75.1333888571)"
      ]
     },
     "execution_count": 27,
     "metadata": {},
     "output_type": "execute_result"
    }
   ],
   "source": [
    "valid_cols = ['StateAbbr', 'PlaceName', 'Population2010', 'Geolocation']\n",
    "cities_df = pd.read_csv(top_cities_dir, usecols=valid_cols).sort_values('Population2010', ascending=False, )\n",
    "\n",
    "cities_df.rename(columns={\n",
    "    'StateAbbr': 'state', \n",
    "    'PlaceName': 'city', \n",
    "    'Population2010': 'population', \n",
    "    'Geolocation': 'geolocation'\n",
    "}, inplace=True)\n",
    "\n",
    "# originally tuple of geolocation is a string, convert to numerical\n",
    "cities_df['geolocation'] = [eval(v) for v in cities_df['geolocation']]\n",
    "\n",
    "cities_df.reset_index(drop=True, inplace=True)\n",
    "cities_df.head()"
   ]
  },
  {
   "cell_type": "markdown",
   "metadata": {},
   "source": [
    "### Sub sample a portion of these cities using greedy approach"
   ]
  },
  {
   "cell_type": "code",
   "execution_count": 28,
   "metadata": {},
   "outputs": [],
   "source": [
    "# For each state, find which ones have more than 5 cities\n",
    "cities_per_state = cities_df.state.value_counts()\n",
    "excess_states = cities_per_state[cities_per_state > 5].index.to_list()"
   ]
  },
  {
   "cell_type": "code",
   "execution_count": 29,
   "metadata": {},
   "outputs": [],
   "source": [
    "# Put aside states with less than 5 cities\n",
    "states_few_cities = cities_per_state[cities_per_state <= 5].index.to_list()\n",
    "few_cities_df = cities_df[cities_df.state.isin(states_few_cities)]"
   ]
  },
  {
   "cell_type": "code",
   "execution_count": 30,
   "metadata": {},
   "outputs": [],
   "source": [
    "# Greedy approach: pick most populus city in each state, compute its distance to other cities within state\n",
    "# Then pick the furthest city from it, and randomly sample 40% of remaining cities.\n",
    "\n",
    "# Keep track of the indices of cities in the ORIGINAL cities_df\n",
    "all_indices = []\n",
    "\n",
    "for st in excess_states:\n",
    "    \n",
    "    state_cities_df = cities_df[cities_df.state == st]\n",
    "    top_city = state_cities_df.iloc[0]\n",
    "    top_city_idx = state_cities_df.index[0]\n",
    "    all_indices.append(top_city_idx)\n",
    "    \n",
    "    dists_from_top_city = []\n",
    "    \n",
    "    # Skip top city\n",
    "    for idx in range(1, state_cities_df.shape[0]):\n",
    "        other_city = state_cities_df.iloc[idx]\n",
    "        dists_from_top_city.append(gd.distance(top_city['geolocation'], other_city['geolocation']).km)\n",
    "    \n",
    "    # Pick furthest city\n",
    "    furthest_city = state_cities_df.iloc[np.argmax(dists_from_top_city) + 1]\n",
    "    furthest_city_idx = state_cities_df.index[np.argmax(dists_from_top_city) + 1]\n",
    "    all_indices.append(furthest_city_idx)\n",
    "    \n",
    "    # Now sample at random 50% from the remaining cities\n",
    "    remaining_cities_ids = state_cities_df.index.to_list()\n",
    "    [remaining_cities_ids.remove(x) for x in [top_city_idx, furthest_city_idx]]\n",
    "    \n",
    "    sampled_cities = np.random.choice(remaining_cities_ids, int(len(remaining_cities_ids) * 0.4), replace=False)\n",
    "    [all_indices.append(x) for x in sampled_cities]\n",
    "\n",
    "resampled_cities = cities_df.iloc[all_indices]"
   ]
  },
  {
   "cell_type": "code",
   "execution_count": 31,
   "metadata": {},
   "outputs": [
    {
     "name": "stdout",
     "output_type": "stream",
     "text": [
      "201\n",
      "201\n"
     ]
    }
   ],
   "source": [
    "# Sanity check that we didn't take duplicate indices\n",
    "print(len(all_indices))\n",
    "print(len(np.unique(all_indices)))"
   ]
  },
  {
   "cell_type": "code",
   "execution_count": 32,
   "metadata": {},
   "outputs": [
    {
     "name": "stdout",
     "output_type": "stream",
     "text": [
      "0\n"
     ]
    }
   ],
   "source": [
    "# Last sanity check - control that indices in resampled_cities and indices in few_cities_df dont overlap\n",
    "resampled_set = set(all_indices)\n",
    "few_cities_set = set(few_cities_df.index.to_list())\n",
    "\n",
    "print(len(set.intersection(resampled_set, few_cities_set)))"
   ]
  },
  {
   "cell_type": "code",
   "execution_count": 33,
   "metadata": {},
   "outputs": [
    {
     "data": {
      "text/html": [
       "<div>\n",
       "<style scoped>\n",
       "    .dataframe tbody tr th:only-of-type {\n",
       "        vertical-align: middle;\n",
       "    }\n",
       "\n",
       "    .dataframe tbody tr th {\n",
       "        vertical-align: top;\n",
       "    }\n",
       "\n",
       "    .dataframe thead th {\n",
       "        text-align: right;\n",
       "    }\n",
       "</style>\n",
       "<table border=\"1\" class=\"dataframe\">\n",
       "  <thead>\n",
       "    <tr style=\"text-align: right;\">\n",
       "      <th></th>\n",
       "      <th>state</th>\n",
       "      <th>city</th>\n",
       "      <th>population</th>\n",
       "      <th>geolocation</th>\n",
       "    </tr>\n",
       "  </thead>\n",
       "  <tbody>\n",
       "    <tr>\n",
       "      <th>0</th>\n",
       "      <td>HI</td>\n",
       "      <td>Honolulu</td>\n",
       "      <td>953207</td>\n",
       "      <td>(21.4588039305, -157.973296737)</td>\n",
       "    </tr>\n",
       "    <tr>\n",
       "      <th>1</th>\n",
       "      <td>MD</td>\n",
       "      <td>Baltimore</td>\n",
       "      <td>620961</td>\n",
       "      <td>(39.3084523991, -76.6160492311)</td>\n",
       "    </tr>\n",
       "    <tr>\n",
       "      <th>2</th>\n",
       "      <td>DC</td>\n",
       "      <td>Washington</td>\n",
       "      <td>601723</td>\n",
       "      <td>(38.9099241426, -77.0147205666)</td>\n",
       "    </tr>\n",
       "    <tr>\n",
       "      <th>3</th>\n",
       "      <td>KY</td>\n",
       "      <td>Louisville</td>\n",
       "      <td>597337</td>\n",
       "      <td>(38.1777689918, -85.6664099974)</td>\n",
       "    </tr>\n",
       "    <tr>\n",
       "      <th>4</th>\n",
       "      <td>NV</td>\n",
       "      <td>Las Vegas</td>\n",
       "      <td>583756</td>\n",
       "      <td>(36.2274148438, -115.262670095)</td>\n",
       "    </tr>\n",
       "    <tr>\n",
       "      <th>...</th>\n",
       "      <td>...</td>\n",
       "      <td>...</td>\n",
       "      <td>...</td>\n",
       "      <td>...</td>\n",
       "    </tr>\n",
       "    <tr>\n",
       "      <th>244</th>\n",
       "      <td>LA</td>\n",
       "      <td>Shreveport</td>\n",
       "      <td>199311</td>\n",
       "      <td>(32.4671618864, -93.7962236108)</td>\n",
       "    </tr>\n",
       "    <tr>\n",
       "      <th>245</th>\n",
       "      <td>LA</td>\n",
       "      <td>Kenner</td>\n",
       "      <td>66702</td>\n",
       "      <td>(30.0106937201, -90.2550320135)</td>\n",
       "    </tr>\n",
       "    <tr>\n",
       "      <th>246</th>\n",
       "      <td>IA</td>\n",
       "      <td>Des Moines</td>\n",
       "      <td>203433</td>\n",
       "      <td>(41.5741349525, -93.6165066086)</td>\n",
       "    </tr>\n",
       "    <tr>\n",
       "      <th>247</th>\n",
       "      <td>IA</td>\n",
       "      <td>Sioux City</td>\n",
       "      <td>82684</td>\n",
       "      <td>(42.4963149039, -96.3913834837)</td>\n",
       "    </tr>\n",
       "    <tr>\n",
       "      <th>248</th>\n",
       "      <td>IA</td>\n",
       "      <td>Iowa City</td>\n",
       "      <td>67862</td>\n",
       "      <td>(41.6558950332, -91.5308854927)</td>\n",
       "    </tr>\n",
       "  </tbody>\n",
       "</table>\n",
       "<p>249 rows × 4 columns</p>\n",
       "</div>"
      ],
      "text/plain": [
       "    state        city  population                      geolocation\n",
       "0      HI    Honolulu      953207  (21.4588039305, -157.973296737)\n",
       "1      MD   Baltimore      620961  (39.3084523991, -76.6160492311)\n",
       "2      DC  Washington      601723  (38.9099241426, -77.0147205666)\n",
       "3      KY  Louisville      597337  (38.1777689918, -85.6664099974)\n",
       "4      NV   Las Vegas      583756  (36.2274148438, -115.262670095)\n",
       "..    ...         ...         ...                              ...\n",
       "244    LA  Shreveport      199311  (32.4671618864, -93.7962236108)\n",
       "245    LA      Kenner       66702  (30.0106937201, -90.2550320135)\n",
       "246    IA  Des Moines      203433  (41.5741349525, -93.6165066086)\n",
       "247    IA  Sioux City       82684  (42.4963149039, -96.3913834837)\n",
       "248    IA   Iowa City       67862  (41.6558950332, -91.5308854927)\n",
       "\n",
       "[249 rows x 4 columns]"
      ]
     },
     "execution_count": 33,
     "metadata": {},
     "output_type": "execute_result"
    }
   ],
   "source": [
    "# Finally concatenate the two dataframes\n",
    "final_cities_df = few_cities_df.append(resampled_cities, ignore_index=True)\n",
    "final_cities_df"
   ]
  },
  {
   "cell_type": "code",
   "execution_count": 34,
   "metadata": {},
   "outputs": [
    {
     "name": "stdout",
     "output_type": "stream",
     "text": [
      "True\n"
     ]
    }
   ],
   "source": [
    "# Sanity check that we have 51 states\n",
    "\n",
    "print(len(final_cities_df.state.unique()) == 51)"
   ]
  },
  {
   "cell_type": "markdown",
   "metadata": {},
   "source": [
    "### Read all counties"
   ]
  },
  {
   "cell_type": "code",
   "execution_count": 35,
   "metadata": {},
   "outputs": [],
   "source": [
    "counties_df = pd.read_csv(coords_dir)\n",
    "counties_df.head()\n",
    "counties_df['geolocation'] = [eval(x) for x in counties_df['geolocation']]"
   ]
  },
  {
   "cell_type": "code",
   "execution_count": 36,
   "metadata": {},
   "outputs": [
    {
     "data": {
      "text/html": [
       "<div>\n",
       "<style scoped>\n",
       "    .dataframe tbody tr th:only-of-type {\n",
       "        vertical-align: middle;\n",
       "    }\n",
       "\n",
       "    .dataframe tbody tr th {\n",
       "        vertical-align: top;\n",
       "    }\n",
       "\n",
       "    .dataframe thead th {\n",
       "        text-align: right;\n",
       "    }\n",
       "</style>\n",
       "<table border=\"1\" class=\"dataframe\">\n",
       "  <thead>\n",
       "    <tr style=\"text-align: right;\">\n",
       "      <th></th>\n",
       "      <th>state</th>\n",
       "      <th>county</th>\n",
       "      <th>fips</th>\n",
       "      <th>fips_state</th>\n",
       "      <th>geolocation</th>\n",
       "    </tr>\n",
       "  </thead>\n",
       "  <tbody>\n",
       "    <tr>\n",
       "      <th>0</th>\n",
       "      <td>AK</td>\n",
       "      <td>aleutians east</td>\n",
       "      <td>2013</td>\n",
       "      <td>AK 02013</td>\n",
       "      <td>(55.4039, -161.863)</td>\n",
       "    </tr>\n",
       "    <tr>\n",
       "      <th>1</th>\n",
       "      <td>AK</td>\n",
       "      <td>aleutians west</td>\n",
       "      <td>2016</td>\n",
       "      <td>AK 02016</td>\n",
       "      <td>(52.8883, -111.1392)</td>\n",
       "    </tr>\n",
       "    <tr>\n",
       "      <th>2</th>\n",
       "      <td>AK</td>\n",
       "      <td>anchorage</td>\n",
       "      <td>2020</td>\n",
       "      <td>AK 02020</td>\n",
       "      <td>(61.1501, -149.1067)</td>\n",
       "    </tr>\n",
       "    <tr>\n",
       "      <th>3</th>\n",
       "      <td>AK</td>\n",
       "      <td>bethel</td>\n",
       "      <td>2050</td>\n",
       "      <td>AK 02050</td>\n",
       "      <td>(60.9126, -159.7207)</td>\n",
       "    </tr>\n",
       "    <tr>\n",
       "      <th>4</th>\n",
       "      <td>AK</td>\n",
       "      <td>bristol bay</td>\n",
       "      <td>2060</td>\n",
       "      <td>AK 02060</td>\n",
       "      <td>(58.7423, -156.7013)</td>\n",
       "    </tr>\n",
       "  </tbody>\n",
       "</table>\n",
       "</div>"
      ],
      "text/plain": [
       "  state          county  fips fips_state           geolocation\n",
       "0    AK  aleutians east  2013   AK 02013   (55.4039, -161.863)\n",
       "1    AK  aleutians west  2016   AK 02016  (52.8883, -111.1392)\n",
       "2    AK       anchorage  2020   AK 02020  (61.1501, -149.1067)\n",
       "3    AK          bethel  2050   AK 02050  (60.9126, -159.7207)\n",
       "4    AK     bristol bay  2060   AK 02060  (58.7423, -156.7013)"
      ]
     },
     "execution_count": 36,
     "metadata": {},
     "output_type": "execute_result"
    }
   ],
   "source": [
    "# Sanity check there is at least one county for each of the above states\n",
    "\n",
    "counties_df.head()"
   ]
  },
  {
   "cell_type": "code",
   "execution_count": 37,
   "metadata": {},
   "outputs": [],
   "source": [
    "def find_top_county_per_city(final_cities_df, counties_df):\n",
    "    \n",
    "    num_cities = final_cities_df.shape[0]\n",
    "    num_counties = counties_df.shape[0]\n",
    "    \n",
    "    # Populate dictionary mapping cities to best county \n",
    "    # Cities can have same name across states, so need to be more specific in the dictionary key\n",
    "    city_to_county = {f\"{final_cities_df.iloc[i]['state']}, {final_cities_df.iloc[i]['city']}\":''\n",
    "                      for i in range(num_cities)}\n",
    "    \n",
    "    # For each city compute distance from it to each county (lat, lon order)\n",
    "    for i, city in enumerate(final_cities_df.city):\n",
    "\n",
    "        dists = []\n",
    "        city_coord = final_cities_df.iloc[i]['geolocation']\n",
    "        \n",
    "        # Only counties within the city's state can be used\n",
    "        counties_state_df = counties_df[counties_df.state == final_cities_df.iloc[i]['state']]\n",
    "\n",
    "        for j, county in enumerate(counties_state_df.county):\n",
    "            county_coord = counties_state_df.iloc[j]['geolocation']\n",
    "            dists.append(gd.distance(city_coord, county_coord).km)\n",
    "        \n",
    "        # There are many counties with the same name, need to track State as well\n",
    "        best_idx = np.argmin(dists)\n",
    "        city_to_county[f\"{final_cities_df.iloc[i]['state']}, {final_cities_df.iloc[i]['city']}\"] = \\\n",
    "        counties_state_df.iloc[best_idx][['fips_state', 'state']].to_numpy()\n",
    "    \n",
    "    return city_to_county"
   ]
  },
  {
   "cell_type": "code",
   "execution_count": 38,
   "metadata": {},
   "outputs": [],
   "source": [
    "dc = find_top_county_per_city(final_cities_df, counties_df)"
   ]
  },
  {
   "cell_type": "code",
   "execution_count": 39,
   "metadata": {},
   "outputs": [
    {
     "name": "stdout",
     "output_type": "stream",
     "text": [
      "249\n"
     ]
    }
   ],
   "source": [
    "# Sanity: check we have one center per city\n",
    "print(len(dc))"
   ]
  },
  {
   "cell_type": "code",
   "execution_count": 40,
   "metadata": {},
   "outputs": [
    {
     "name": "stdout",
     "output_type": "stream",
     "text": [
      "State: HI\n",
      "City: HI, Honolulu\n",
      "County: HI 15003\n"
     ]
    }
   ],
   "source": [
    "# Show an example\n",
    "\n",
    "for k, v in dc.items():\n",
    "    print(f\"State: {v[1]}\\nCity: {k}\\nCounty: {v[0]}\")\n",
    "    break"
   ]
  },
  {
   "cell_type": "markdown",
   "metadata": {},
   "source": [
    "### Build final dataframe"
   ]
  },
  {
   "cell_type": "code",
   "execution_count": 41,
   "metadata": {},
   "outputs": [],
   "source": [
    "colnames = ['state', 'city', 'fips', 'city_geolocation', 'county_geolocation', 'city_pop']\n",
    "final = []\n",
    "for city, county in dc.items():\n",
    "    \n",
    "    bare_city = city.split(',')[1].strip()\n",
    "\n",
    "    county_arr = counties_df[(counties_df.fips_state==county[0]) &\n",
    "                             (counties_df.state==county[1])\n",
    "                            ][['state', 'geolocation']].to_numpy()[0]\n",
    "    \n",
    "    city_arr = final_cities_df[(final_cities_df.city == bare_city) &\n",
    "                         (final_cities_df.state == county[1])\n",
    "                        ][['geolocation', 'population']].to_numpy()[0]\n",
    "    \n",
    "    final.append([county_arr[0], bare_city, county[0], city_arr[0], county_arr[1], city_arr[1]])\n",
    "\n",
    "complete_df = pd.DataFrame(final, columns=colnames).sort_values('city_pop', ascending=False)\n",
    "complete_df.reset_index(drop=True, inplace=True)\n"
   ]
  },
  {
   "cell_type": "code",
   "execution_count": 76,
   "metadata": {},
   "outputs": [
    {
     "data": {
      "text/html": [
       "<div>\n",
       "<style scoped>\n",
       "    .dataframe tbody tr th:only-of-type {\n",
       "        vertical-align: middle;\n",
       "    }\n",
       "\n",
       "    .dataframe tbody tr th {\n",
       "        vertical-align: top;\n",
       "    }\n",
       "\n",
       "    .dataframe thead th {\n",
       "        text-align: right;\n",
       "    }\n",
       "</style>\n",
       "<table border=\"1\" class=\"dataframe\">\n",
       "  <thead>\n",
       "    <tr style=\"text-align: right;\">\n",
       "      <th></th>\n",
       "      <th>state</th>\n",
       "      <th>city</th>\n",
       "      <th>fips</th>\n",
       "      <th>city_geolocation</th>\n",
       "      <th>county_geolocation</th>\n",
       "      <th>city_pop</th>\n",
       "    </tr>\n",
       "  </thead>\n",
       "  <tbody>\n",
       "    <tr>\n",
       "      <th>0</th>\n",
       "      <td>NY</td>\n",
       "      <td>New York</td>\n",
       "      <td>NY 36047</td>\n",
       "      <td>(40.694960689, -73.9313850409)</td>\n",
       "      <td>(40.6447, -73.9472)</td>\n",
       "      <td>8175133</td>\n",
       "    </tr>\n",
       "    <tr>\n",
       "      <th>1</th>\n",
       "      <td>CA</td>\n",
       "      <td>Los Angeles</td>\n",
       "      <td>CA 06037</td>\n",
       "      <td>(34.1182277898, -118.408500088)</td>\n",
       "      <td>(34.3203, -118.2252)</td>\n",
       "      <td>3792621</td>\n",
       "    </tr>\n",
       "    <tr>\n",
       "      <th>2</th>\n",
       "      <td>IL</td>\n",
       "      <td>Chicago</td>\n",
       "      <td>IL 17031</td>\n",
       "      <td>(41.8372950615, -87.6862308732)</td>\n",
       "      <td>(41.8399, -87.8167)</td>\n",
       "      <td>2695598</td>\n",
       "    </tr>\n",
       "    <tr>\n",
       "      <th>3</th>\n",
       "      <td>TX</td>\n",
       "      <td>Houston</td>\n",
       "      <td>TX 48201</td>\n",
       "      <td>(29.7806691396, -95.3860033966)</td>\n",
       "      <td>(29.8588, -95.3963)</td>\n",
       "      <td>2099451</td>\n",
       "    </tr>\n",
       "    <tr>\n",
       "      <th>4</th>\n",
       "      <td>PA</td>\n",
       "      <td>Philadelphia</td>\n",
       "      <td>PA 42101</td>\n",
       "      <td>(40.0093147808, -75.1333888571)</td>\n",
       "      <td>(40.0076, -75.1338)</td>\n",
       "      <td>1526006</td>\n",
       "    </tr>\n",
       "    <tr>\n",
       "      <th>...</th>\n",
       "      <td>...</td>\n",
       "      <td>...</td>\n",
       "      <td>...</td>\n",
       "      <td>...</td>\n",
       "      <td>...</td>\n",
       "      <td>...</td>\n",
       "    </tr>\n",
       "    <tr>\n",
       "      <th>244</th>\n",
       "      <td>SC</td>\n",
       "      <td>Rock Hill</td>\n",
       "      <td>SC 45091</td>\n",
       "      <td>(34.9403611496, -81.0249178286)</td>\n",
       "      <td>(34.9747, -81.1845)</td>\n",
       "      <td>66154</td>\n",
       "    </tr>\n",
       "    <tr>\n",
       "      <th>245</th>\n",
       "      <td>NY</td>\n",
       "      <td>Schenectady</td>\n",
       "      <td>NY 36093</td>\n",
       "      <td>(42.8025204414, -73.9275333869)</td>\n",
       "      <td>(42.8182, -74.0585)</td>\n",
       "      <td>66135</td>\n",
       "    </tr>\n",
       "    <tr>\n",
       "      <th>246</th>\n",
       "      <td>WY</td>\n",
       "      <td>Cheyenne</td>\n",
       "      <td>WY 56021</td>\n",
       "      <td>(41.1460804265, -104.789064332)</td>\n",
       "      <td>(41.3071, -104.6896)</td>\n",
       "      <td>59466</td>\n",
       "    </tr>\n",
       "    <tr>\n",
       "      <th>247</th>\n",
       "      <td>WV</td>\n",
       "      <td>Charleston</td>\n",
       "      <td>WV 54039</td>\n",
       "      <td>(38.3484079736, -81.632165003)</td>\n",
       "      <td>(38.3365, -81.5281)</td>\n",
       "      <td>51400</td>\n",
       "    </tr>\n",
       "    <tr>\n",
       "      <th>248</th>\n",
       "      <td>VT</td>\n",
       "      <td>Burlington</td>\n",
       "      <td>VT 50007</td>\n",
       "      <td>(44.4876245694, -73.2314828365)</td>\n",
       "      <td>(44.4609, -73.0809)</td>\n",
       "      <td>42417</td>\n",
       "    </tr>\n",
       "  </tbody>\n",
       "</table>\n",
       "<p>249 rows × 6 columns</p>\n",
       "</div>"
      ],
      "text/plain": [
       "    state          city      fips                 city_geolocation  \\\n",
       "0      NY      New York  NY 36047   (40.694960689, -73.9313850409)   \n",
       "1      CA   Los Angeles  CA 06037  (34.1182277898, -118.408500088)   \n",
       "2      IL       Chicago  IL 17031  (41.8372950615, -87.6862308732)   \n",
       "3      TX       Houston  TX 48201  (29.7806691396, -95.3860033966)   \n",
       "4      PA  Philadelphia  PA 42101  (40.0093147808, -75.1333888571)   \n",
       "..    ...           ...       ...                              ...   \n",
       "244    SC     Rock Hill  SC 45091  (34.9403611496, -81.0249178286)   \n",
       "245    NY   Schenectady  NY 36093  (42.8025204414, -73.9275333869)   \n",
       "246    WY      Cheyenne  WY 56021  (41.1460804265, -104.789064332)   \n",
       "247    WV    Charleston  WV 54039   (38.3484079736, -81.632165003)   \n",
       "248    VT    Burlington  VT 50007  (44.4876245694, -73.2314828365)   \n",
       "\n",
       "       county_geolocation  city_pop  \n",
       "0     (40.6447, -73.9472)   8175133  \n",
       "1    (34.3203, -118.2252)   3792621  \n",
       "2     (41.8399, -87.8167)   2695598  \n",
       "3     (29.8588, -95.3963)   2099451  \n",
       "4     (40.0076, -75.1338)   1526006  \n",
       "..                    ...       ...  \n",
       "244   (34.9747, -81.1845)     66154  \n",
       "245   (42.8182, -74.0585)     66135  \n",
       "246  (41.3071, -104.6896)     59466  \n",
       "247   (38.3365, -81.5281)     51400  \n",
       "248   (44.4609, -73.0809)     42417  \n",
       "\n",
       "[249 rows x 6 columns]"
      ]
     },
     "execution_count": 76,
     "metadata": {},
     "output_type": "execute_result"
    }
   ],
   "source": [
    "complete_df"
   ]
  },
  {
   "cell_type": "markdown",
   "metadata": {},
   "source": [
    "### Build matrix of distances between counties"
   ]
  },
  {
   "cell_type": "code",
   "execution_count": 43,
   "metadata": {},
   "outputs": [],
   "source": [
    "# Pre-populate array (rows are the assigned centers, columns are each existing county)\n",
    "counties_dists = np.ones(shape=(complete_df.shape[0], counties_df.shape[0])) * -1.0\n",
    "\n",
    "for i in range(complete_df.shape[0]):\n",
    "    \n",
    "    # Compute distance from selected county to all other counties within the same state\n",
    "    dists = []\n",
    "    center_coord = complete_df.iloc[i]['county_geolocation']\n",
    "\n",
    "    counties_state_df = counties_df[counties_df.state == complete_df.iloc[i]['state']]\n",
    "    nonzero_indices = counties_state_df.index\n",
    "    \n",
    "    for j, county in enumerate(counties_state_df.county):\n",
    "        county_coord = counties_state_df.iloc[j]['geolocation']\n",
    "        dists.append(gd.distance(center_coord, county_coord).km)\n",
    "    \n",
    "    counties_dists[i, nonzero_indices] = dists"
   ]
  },
  {
   "cell_type": "code",
   "execution_count": 44,
   "metadata": {},
   "outputs": [],
   "source": [
    "columns = counties_df.fips_state.to_numpy()\n",
    "index = complete_df['state'] + ', ' + complete_df['city']\n",
    "\n",
    "counties_dists_df = pd.DataFrame(counties_dists, \n",
    "                                 columns=columns, \n",
    "                                 index=index)"
   ]
  },
  {
   "cell_type": "code",
   "execution_count": 45,
   "metadata": {},
   "outputs": [
    {
     "data": {
      "text/html": [
       "<div>\n",
       "<style scoped>\n",
       "    .dataframe tbody tr th:only-of-type {\n",
       "        vertical-align: middle;\n",
       "    }\n",
       "\n",
       "    .dataframe tbody tr th {\n",
       "        vertical-align: top;\n",
       "    }\n",
       "\n",
       "    .dataframe thead th {\n",
       "        text-align: right;\n",
       "    }\n",
       "</style>\n",
       "<table border=\"1\" class=\"dataframe\">\n",
       "  <thead>\n",
       "    <tr style=\"text-align: right;\">\n",
       "      <th></th>\n",
       "      <th>AK 02013</th>\n",
       "      <th>AK 02016</th>\n",
       "      <th>AK 02020</th>\n",
       "      <th>AK 02050</th>\n",
       "      <th>AK 02060</th>\n",
       "      <th>AK 02068</th>\n",
       "      <th>AK 02070</th>\n",
       "      <th>AK 02090</th>\n",
       "      <th>AK 02100</th>\n",
       "      <th>AK 02105</th>\n",
       "      <th>...</th>\n",
       "      <th>WY 56027</th>\n",
       "      <th>WY 56029</th>\n",
       "      <th>WY 56031</th>\n",
       "      <th>WY 56033</th>\n",
       "      <th>WY 56035</th>\n",
       "      <th>WY 56037</th>\n",
       "      <th>WY 56039</th>\n",
       "      <th>WY 56041</th>\n",
       "      <th>WY 56043</th>\n",
       "      <th>WY 56045</th>\n",
       "    </tr>\n",
       "  </thead>\n",
       "  <tbody>\n",
       "    <tr>\n",
       "      <th>NY, New York</th>\n",
       "      <td>-1.0</td>\n",
       "      <td>-1.0</td>\n",
       "      <td>-1.0</td>\n",
       "      <td>-1.0</td>\n",
       "      <td>-1.0</td>\n",
       "      <td>-1.0</td>\n",
       "      <td>-1.0</td>\n",
       "      <td>-1.0</td>\n",
       "      <td>-1.0</td>\n",
       "      <td>-1.0</td>\n",
       "      <td>...</td>\n",
       "      <td>-1.0</td>\n",
       "      <td>-1.0</td>\n",
       "      <td>-1.0</td>\n",
       "      <td>-1.0</td>\n",
       "      <td>-1.0</td>\n",
       "      <td>-1.0</td>\n",
       "      <td>-1.0</td>\n",
       "      <td>-1.0</td>\n",
       "      <td>-1.0</td>\n",
       "      <td>-1.0</td>\n",
       "    </tr>\n",
       "    <tr>\n",
       "      <th>CA, Los Angeles</th>\n",
       "      <td>-1.0</td>\n",
       "      <td>-1.0</td>\n",
       "      <td>-1.0</td>\n",
       "      <td>-1.0</td>\n",
       "      <td>-1.0</td>\n",
       "      <td>-1.0</td>\n",
       "      <td>-1.0</td>\n",
       "      <td>-1.0</td>\n",
       "      <td>-1.0</td>\n",
       "      <td>-1.0</td>\n",
       "      <td>...</td>\n",
       "      <td>-1.0</td>\n",
       "      <td>-1.0</td>\n",
       "      <td>-1.0</td>\n",
       "      <td>-1.0</td>\n",
       "      <td>-1.0</td>\n",
       "      <td>-1.0</td>\n",
       "      <td>-1.0</td>\n",
       "      <td>-1.0</td>\n",
       "      <td>-1.0</td>\n",
       "      <td>-1.0</td>\n",
       "    </tr>\n",
       "    <tr>\n",
       "      <th>IL, Chicago</th>\n",
       "      <td>-1.0</td>\n",
       "      <td>-1.0</td>\n",
       "      <td>-1.0</td>\n",
       "      <td>-1.0</td>\n",
       "      <td>-1.0</td>\n",
       "      <td>-1.0</td>\n",
       "      <td>-1.0</td>\n",
       "      <td>-1.0</td>\n",
       "      <td>-1.0</td>\n",
       "      <td>-1.0</td>\n",
       "      <td>...</td>\n",
       "      <td>-1.0</td>\n",
       "      <td>-1.0</td>\n",
       "      <td>-1.0</td>\n",
       "      <td>-1.0</td>\n",
       "      <td>-1.0</td>\n",
       "      <td>-1.0</td>\n",
       "      <td>-1.0</td>\n",
       "      <td>-1.0</td>\n",
       "      <td>-1.0</td>\n",
       "      <td>-1.0</td>\n",
       "    </tr>\n",
       "    <tr>\n",
       "      <th>TX, Houston</th>\n",
       "      <td>-1.0</td>\n",
       "      <td>-1.0</td>\n",
       "      <td>-1.0</td>\n",
       "      <td>-1.0</td>\n",
       "      <td>-1.0</td>\n",
       "      <td>-1.0</td>\n",
       "      <td>-1.0</td>\n",
       "      <td>-1.0</td>\n",
       "      <td>-1.0</td>\n",
       "      <td>-1.0</td>\n",
       "      <td>...</td>\n",
       "      <td>-1.0</td>\n",
       "      <td>-1.0</td>\n",
       "      <td>-1.0</td>\n",
       "      <td>-1.0</td>\n",
       "      <td>-1.0</td>\n",
       "      <td>-1.0</td>\n",
       "      <td>-1.0</td>\n",
       "      <td>-1.0</td>\n",
       "      <td>-1.0</td>\n",
       "      <td>-1.0</td>\n",
       "    </tr>\n",
       "    <tr>\n",
       "      <th>PA, Philadelphia</th>\n",
       "      <td>-1.0</td>\n",
       "      <td>-1.0</td>\n",
       "      <td>-1.0</td>\n",
       "      <td>-1.0</td>\n",
       "      <td>-1.0</td>\n",
       "      <td>-1.0</td>\n",
       "      <td>-1.0</td>\n",
       "      <td>-1.0</td>\n",
       "      <td>-1.0</td>\n",
       "      <td>-1.0</td>\n",
       "      <td>...</td>\n",
       "      <td>-1.0</td>\n",
       "      <td>-1.0</td>\n",
       "      <td>-1.0</td>\n",
       "      <td>-1.0</td>\n",
       "      <td>-1.0</td>\n",
       "      <td>-1.0</td>\n",
       "      <td>-1.0</td>\n",
       "      <td>-1.0</td>\n",
       "      <td>-1.0</td>\n",
       "      <td>-1.0</td>\n",
       "    </tr>\n",
       "  </tbody>\n",
       "</table>\n",
       "<p>5 rows × 3141 columns</p>\n",
       "</div>"
      ],
      "text/plain": [
       "                  AK 02013  AK 02016  AK 02020  AK 02050  AK 02060  AK 02068  \\\n",
       "NY, New York          -1.0      -1.0      -1.0      -1.0      -1.0      -1.0   \n",
       "CA, Los Angeles       -1.0      -1.0      -1.0      -1.0      -1.0      -1.0   \n",
       "IL, Chicago           -1.0      -1.0      -1.0      -1.0      -1.0      -1.0   \n",
       "TX, Houston           -1.0      -1.0      -1.0      -1.0      -1.0      -1.0   \n",
       "PA, Philadelphia      -1.0      -1.0      -1.0      -1.0      -1.0      -1.0   \n",
       "\n",
       "                  AK 02070  AK 02090  AK 02100  AK 02105  ...  WY 56027  \\\n",
       "NY, New York          -1.0      -1.0      -1.0      -1.0  ...      -1.0   \n",
       "CA, Los Angeles       -1.0      -1.0      -1.0      -1.0  ...      -1.0   \n",
       "IL, Chicago           -1.0      -1.0      -1.0      -1.0  ...      -1.0   \n",
       "TX, Houston           -1.0      -1.0      -1.0      -1.0  ...      -1.0   \n",
       "PA, Philadelphia      -1.0      -1.0      -1.0      -1.0  ...      -1.0   \n",
       "\n",
       "                  WY 56029  WY 56031  WY 56033  WY 56035  WY 56037  WY 56039  \\\n",
       "NY, New York          -1.0      -1.0      -1.0      -1.0      -1.0      -1.0   \n",
       "CA, Los Angeles       -1.0      -1.0      -1.0      -1.0      -1.0      -1.0   \n",
       "IL, Chicago           -1.0      -1.0      -1.0      -1.0      -1.0      -1.0   \n",
       "TX, Houston           -1.0      -1.0      -1.0      -1.0      -1.0      -1.0   \n",
       "PA, Philadelphia      -1.0      -1.0      -1.0      -1.0      -1.0      -1.0   \n",
       "\n",
       "                  WY 56041  WY 56043  WY 56045  \n",
       "NY, New York          -1.0      -1.0      -1.0  \n",
       "CA, Los Angeles       -1.0      -1.0      -1.0  \n",
       "IL, Chicago           -1.0      -1.0      -1.0  \n",
       "TX, Houston           -1.0      -1.0      -1.0  \n",
       "PA, Philadelphia      -1.0      -1.0      -1.0  \n",
       "\n",
       "[5 rows x 3141 columns]"
      ]
     },
     "execution_count": 45,
     "metadata": {},
     "output_type": "execute_result"
    }
   ],
   "source": [
    "counties_dists_df.head()"
   ]
  },
  {
   "cell_type": "code",
   "execution_count": 46,
   "metadata": {},
   "outputs": [],
   "source": [
    "# One more sanity check (check distance of center with itself is 0)\n",
    "example = counties_dists_df.loc[\"NY, New York\"]"
   ]
  },
  {
   "cell_type": "code",
   "execution_count": 23,
   "metadata": {},
   "outputs": [
    {
     "data": {
      "text/plain": [
       "19480"
      ]
     },
     "execution_count": 23,
     "metadata": {},
     "output_type": "execute_result"
    }
   ],
   "source": [
    "sum(sum(counties_dists>-1))"
   ]
  },
  {
   "cell_type": "code",
   "execution_count": 63,
   "metadata": {},
   "outputs": [
    {
     "data": {
      "text/plain": [
       "(array([  0,   0,   0, ..., 248, 248, 248]),\n",
       " array([1980, 1981, 1982, ..., 2949, 2950, 2951]))"
      ]
     },
     "execution_count": 63,
     "metadata": {},
     "output_type": "execute_result"
    }
   ],
   "source": [
    "m = np.argwhere(counties_dists > -1)\n",
    "np.where(counties_dists>1)"
   ]
  },
  {
   "cell_type": "code",
   "execution_count": 75,
   "metadata": {},
   "outputs": [
    {
     "data": {
      "text/plain": [
       "array([ 73, 166, 216, 227, 238])"
      ]
     },
     "execution_count": 75,
     "metadata": {},
     "output_type": "execute_result"
    }
   ],
   "source": [
    "np.where(counties_dists[:, 102] > -1)[0]"
   ]
  },
  {
   "cell_type": "markdown",
   "metadata": {},
   "source": [
    "### Save all these big boys"
   ]
  },
  {
   "cell_type": "code",
   "execution_count": 24,
   "metadata": {},
   "outputs": [],
   "source": [
    "complete_df.to_csv('selected_centers.csv')\n",
    "counties_dists_df.to_csv('counties_distances.csv')"
   ]
  }
 ],
 "metadata": {
  "kernelspec": {
   "display_name": "Python 3",
   "language": "python",
   "name": "python3"
  },
  "language_info": {
   "codemirror_mode": {
    "name": "ipython",
    "version": 3
   },
   "file_extension": ".py",
   "mimetype": "text/x-python",
   "name": "python",
   "nbconvert_exporter": "python",
   "pygments_lexer": "ipython3",
   "version": "3.8.5"
  }
 },
 "nbformat": 4,
 "nbformat_minor": 1
}
