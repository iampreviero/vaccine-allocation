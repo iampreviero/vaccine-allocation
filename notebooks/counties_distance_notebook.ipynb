{
 "cells": [
  {
   "cell_type": "markdown",
   "metadata": {
    "collapsed": true
   },
   "source": [
    "# Counties coordinates (lat, lon)\n",
    "**Runs in about 30 s**"
   ]
  },
  {
   "cell_type": "markdown",
   "metadata": {},
   "source": [
    "Two files are required to execute this code\n",
    "- The top 500 cities in the US by population, based on 2010 census. Can be found at:\n",
    "https://chronicdata.cdc.gov/500-Cities-Places/500-Cities-City-level-Data-GIS-Friendly-Format-201/pf7q-w24q\n",
    "\n",
    "- All the US counties with the geolocation. Can be found at: https://www.weather.gov/gis/counties"
   ]
  },
  {
   "cell_type": "code",
   "execution_count": 1,
   "metadata": {},
   "outputs": [
    {
     "name": "stderr",
     "output_type": "stream",
     "text": [
      "Package `lxml` missing. Pretty print will be disabled\n"
     ]
    }
   ],
   "source": [
    "# Import base packages\n",
    "import pandas as pd\n",
    "import numpy as np\n",
    "import shapefile\n",
    "import geopy.distance as gd\n",
    "from fastkml import kml"
   ]
  },
  {
   "cell_type": "code",
   "execution_count": 2,
   "metadata": {},
   "outputs": [],
   "source": [
    "# Specify absolute path (this is where you stored the downloaded files above)\n",
    "coords_dir = \"/Users/alessandropreviero/Downloads/c_10nv20/c_10nv20.shp\"\n",
    "top_cities_dir = \"/Users/alessandropreviero/Downloads/top500.csv\""
   ]
  },
  {
   "cell_type": "markdown",
   "metadata": {},
   "source": [
    "### Read top cities"
   ]
  },
  {
   "cell_type": "code",
   "execution_count": 3,
   "metadata": {},
   "outputs": [
    {
     "data": {
      "text/html": [
       "<div>\n",
       "<style scoped>\n",
       "    .dataframe tbody tr th:only-of-type {\n",
       "        vertical-align: middle;\n",
       "    }\n",
       "\n",
       "    .dataframe tbody tr th {\n",
       "        vertical-align: top;\n",
       "    }\n",
       "\n",
       "    .dataframe thead th {\n",
       "        text-align: right;\n",
       "    }\n",
       "</style>\n",
       "<table border=\"1\" class=\"dataframe\">\n",
       "  <thead>\n",
       "    <tr style=\"text-align: right;\">\n",
       "      <th></th>\n",
       "      <th>state</th>\n",
       "      <th>city</th>\n",
       "      <th>population</th>\n",
       "      <th>geolocation</th>\n",
       "    </tr>\n",
       "  </thead>\n",
       "  <tbody>\n",
       "    <tr>\n",
       "      <th>0</th>\n",
       "      <td>NY</td>\n",
       "      <td>New York</td>\n",
       "      <td>8175133</td>\n",
       "      <td>(40.694960689, -73.9313850409)</td>\n",
       "    </tr>\n",
       "    <tr>\n",
       "      <th>1</th>\n",
       "      <td>CA</td>\n",
       "      <td>Los Angeles</td>\n",
       "      <td>3792621</td>\n",
       "      <td>(34.1182277898, -118.408500088)</td>\n",
       "    </tr>\n",
       "    <tr>\n",
       "      <th>2</th>\n",
       "      <td>IL</td>\n",
       "      <td>Chicago</td>\n",
       "      <td>2695598</td>\n",
       "      <td>(41.8372950615, -87.6862308732)</td>\n",
       "    </tr>\n",
       "    <tr>\n",
       "      <th>3</th>\n",
       "      <td>TX</td>\n",
       "      <td>Houston</td>\n",
       "      <td>2099451</td>\n",
       "      <td>(29.7806691396, -95.3860033966)</td>\n",
       "    </tr>\n",
       "    <tr>\n",
       "      <th>4</th>\n",
       "      <td>PA</td>\n",
       "      <td>Philadelphia</td>\n",
       "      <td>1526006</td>\n",
       "      <td>(40.0093147808, -75.1333888571)</td>\n",
       "    </tr>\n",
       "  </tbody>\n",
       "</table>\n",
       "</div>"
      ],
      "text/plain": [
       "  state          city  population                      geolocation\n",
       "0    NY      New York     8175133   (40.694960689, -73.9313850409)\n",
       "1    CA   Los Angeles     3792621  (34.1182277898, -118.408500088)\n",
       "2    IL       Chicago     2695598  (41.8372950615, -87.6862308732)\n",
       "3    TX       Houston     2099451  (29.7806691396, -95.3860033966)\n",
       "4    PA  Philadelphia     1526006  (40.0093147808, -75.1333888571)"
      ]
     },
     "execution_count": 3,
     "metadata": {},
     "output_type": "execute_result"
    }
   ],
   "source": [
    "valid_cols = ['StateAbbr', 'PlaceName', 'Population2010', 'Geolocation']\n",
    "cities_df = pd.read_csv(top_cities_dir, usecols=valid_cols).sort_values('Population2010', ascending=False, )\n",
    "\n",
    "cities_df.rename(columns={\n",
    "    'StateAbbr': 'state', \n",
    "    'PlaceName': 'city', \n",
    "    'Population2010': 'population', \n",
    "    'Geolocation': 'geolocation'\n",
    "}, inplace=True)\n",
    "\n",
    "# originally tuple of geolocation is a string, convert to numerical\n",
    "cities_df['geolocation'] = [eval(v) for v in cities_df['geolocation']]\n",
    "\n",
    "cities_df.reset_index(drop=True, inplace=True)\n",
    "cities_df.head()"
   ]
  },
  {
   "cell_type": "code",
   "execution_count": 4,
   "metadata": {},
   "outputs": [
    {
     "name": "stdout",
     "output_type": "stream",
     "text": [
      "True\n"
     ]
    }
   ],
   "source": [
    "# Sanity check that we have 51 states\n",
    "\n",
    "print(len(cities_df.state.unique()) == 51)"
   ]
  },
  {
   "cell_type": "markdown",
   "metadata": {},
   "source": [
    "### Read all counties"
   ]
  },
  {
   "cell_type": "code",
   "execution_count": 5,
   "metadata": {},
   "outputs": [],
   "source": [
    "sf = shapefile.Reader(coords_dir)\n",
    "num_counties = len(sf.records())"
   ]
  },
  {
   "cell_type": "code",
   "execution_count": 6,
   "metadata": {},
   "outputs": [
    {
     "data": {
      "text/html": [
       "<div>\n",
       "<style scoped>\n",
       "    .dataframe tbody tr th:only-of-type {\n",
       "        vertical-align: middle;\n",
       "    }\n",
       "\n",
       "    .dataframe tbody tr th {\n",
       "        vertical-align: top;\n",
       "    }\n",
       "\n",
       "    .dataframe thead th {\n",
       "        text-align: right;\n",
       "    }\n",
       "</style>\n",
       "<table border=\"1\" class=\"dataframe\">\n",
       "  <thead>\n",
       "    <tr style=\"text-align: right;\">\n",
       "      <th></th>\n",
       "      <th>state</th>\n",
       "      <th>county</th>\n",
       "      <th>geolocation</th>\n",
       "    </tr>\n",
       "  </thead>\n",
       "  <tbody>\n",
       "    <tr>\n",
       "      <th>0</th>\n",
       "      <td>ME</td>\n",
       "      <td>Washington</td>\n",
       "      <td>(45.0363, -67.6361)</td>\n",
       "    </tr>\n",
       "    <tr>\n",
       "      <th>1</th>\n",
       "      <td>GA</td>\n",
       "      <td>McIntosh</td>\n",
       "      <td>(31.5329, -81.2646)</td>\n",
       "    </tr>\n",
       "    <tr>\n",
       "      <th>2</th>\n",
       "      <td>GA</td>\n",
       "      <td>Liberty</td>\n",
       "      <td>(31.7093, -81.2103)</td>\n",
       "    </tr>\n",
       "    <tr>\n",
       "      <th>3</th>\n",
       "      <td>AS</td>\n",
       "      <td>Swains Island</td>\n",
       "      <td>(-11.0843, -171.0459)</td>\n",
       "    </tr>\n",
       "    <tr>\n",
       "      <th>4</th>\n",
       "      <td>AS</td>\n",
       "      <td>Manu'a</td>\n",
       "      <td>(-14.2219, -169.506)</td>\n",
       "    </tr>\n",
       "  </tbody>\n",
       "</table>\n",
       "</div>"
      ],
      "text/plain": [
       "  state         county            geolocation\n",
       "0    ME     Washington    (45.0363, -67.6361)\n",
       "1    GA       McIntosh    (31.5329, -81.2646)\n",
       "2    GA        Liberty    (31.7093, -81.2103)\n",
       "3    AS  Swains Island  (-11.0843, -171.0459)\n",
       "4    AS         Manu'a   (-14.2219, -169.506)"
      ]
     },
     "execution_count": 6,
     "metadata": {},
     "output_type": "execute_result"
    }
   ],
   "source": [
    "county_df_colnames = ['state', 'county', 'geolocation']\n",
    "county_coords = []\n",
    "\n",
    "for idx in range(num_counties):\n",
    "    record = sf.record(idx)\n",
    "    state_code = record[0]\n",
    "    county_name = record[2]\n",
    "    lon = record[6]\n",
    "    lat = record[7]\n",
    "    county_coords.append([state_code, county_name, (lat, lon)])\n",
    "\n",
    "counties_df = pd.DataFrame(county_coords, columns=county_df_colnames)\n",
    "counties_df.head()"
   ]
  },
  {
   "cell_type": "code",
   "execution_count": 7,
   "metadata": {},
   "outputs": [
    {
     "name": "stdout",
     "output_type": "stream",
     "text": [
      "55\n"
     ]
    }
   ],
   "source": [
    "# Sanity check there is at least one county for each of the above states\n",
    "\n",
    "print(len(counties_df.state.unique()))"
   ]
  },
  {
   "cell_type": "code",
   "execution_count": 8,
   "metadata": {},
   "outputs": [],
   "source": [
    "def find_top_county_per_city(cities_df, counties_df):\n",
    "    \n",
    "    num_cities = cities_df.shape[0]\n",
    "    num_counties = counties_df.shape[0]\n",
    "    \n",
    "    # Populate dictionary mapping cities to best county \n",
    "    # Cities can have same name across states, so need to be more specific in the dictionary key\n",
    "    city_to_county = {f\"{cities_df.iloc[i]['state']}, {cities_df.iloc[i]['city']}\":''\n",
    "                      for i in range(num_cities)}\n",
    "    \n",
    "    # For each city compute distance from it to each county (lat, lon order)\n",
    "    for i, city in enumerate(cities_df.city):\n",
    "\n",
    "        dists = []\n",
    "        city_coord = cities_df.iloc[i]['geolocation']\n",
    "        \n",
    "        # Only counties within the city's state can be used\n",
    "        counties_state_df = counties_df[counties_df.state == cities_df.iloc[i]['state']]\n",
    "\n",
    "        for j, county in enumerate(counties_state_df.county):\n",
    "            county_coord = counties_state_df.iloc[j]['geolocation']\n",
    "            dists.append(gd.distance(city_coord, county_coord).km)\n",
    "        \n",
    "        # There are many counties with the same name, need to track State as well\n",
    "        best_idx = np.argmin(dists)\n",
    "        city_to_county[f\"{cities_df.iloc[i]['state']}, {cities_df.iloc[i]['city']}\"] = \\\n",
    "        counties_state_df.iloc[best_idx][['county', 'state']].to_numpy()\n",
    "    \n",
    "    return city_to_county"
   ]
  },
  {
   "cell_type": "code",
   "execution_count": 9,
   "metadata": {},
   "outputs": [],
   "source": [
    "dc = find_top_county_per_city(cities_df, counties_df)"
   ]
  },
  {
   "cell_type": "code",
   "execution_count": 10,
   "metadata": {},
   "outputs": [
    {
     "name": "stdout",
     "output_type": "stream",
     "text": [
      "500\n"
     ]
    }
   ],
   "source": [
    "# Sanity: check we have one center per city\n",
    "print(len(dc))"
   ]
  },
  {
   "cell_type": "code",
   "execution_count": 11,
   "metadata": {},
   "outputs": [
    {
     "name": "stdout",
     "output_type": "stream",
     "text": [
      "State: NY\n",
      "City: NY, New York\n",
      "County: Kings\n"
     ]
    }
   ],
   "source": [
    "# Show an example\n",
    "\n",
    "for k, v in dc.items():\n",
    "    print(f\"State: {v[1]}\\nCity: {k}\\nCounty: {v[0]}\")\n",
    "    break"
   ]
  },
  {
   "cell_type": "markdown",
   "metadata": {},
   "source": [
    "### Build final dataframe"
   ]
  },
  {
   "cell_type": "code",
   "execution_count": 12,
   "metadata": {},
   "outputs": [],
   "source": [
    "colnames = ['state', 'city', 'county', 'city_geolocation', 'county_geolocation', 'city_pop']\n",
    "final = []\n",
    "for city, county in dc.items():\n",
    "    \n",
    "    bare_city = city.split(',')[1].strip()\n",
    "\n",
    "    county_arr = counties_df[(counties_df.county==county[0]) &\n",
    "                             (counties_df.state==county[1])\n",
    "                            ][['state', 'geolocation']].to_numpy()[0]\n",
    "    \n",
    "    city_arr = cities_df[(cities_df.city == bare_city) &\n",
    "                         (cities_df.state == county[1])\n",
    "                        ][['geolocation', 'population']].to_numpy()[0]\n",
    "    \n",
    "    final.append([county_arr[0], bare_city, county[0], city_arr[0], county_arr[1], city_arr[1]])\n",
    "\n",
    "complete_df = pd.DataFrame(final, columns=colnames)\n"
   ]
  },
  {
   "cell_type": "code",
   "execution_count": 13,
   "metadata": {},
   "outputs": [
    {
     "data": {
      "text/html": [
       "<div>\n",
       "<style scoped>\n",
       "    .dataframe tbody tr th:only-of-type {\n",
       "        vertical-align: middle;\n",
       "    }\n",
       "\n",
       "    .dataframe tbody tr th {\n",
       "        vertical-align: top;\n",
       "    }\n",
       "\n",
       "    .dataframe thead th {\n",
       "        text-align: right;\n",
       "    }\n",
       "</style>\n",
       "<table border=\"1\" class=\"dataframe\">\n",
       "  <thead>\n",
       "    <tr style=\"text-align: right;\">\n",
       "      <th></th>\n",
       "      <th>state</th>\n",
       "      <th>city</th>\n",
       "      <th>county</th>\n",
       "      <th>city_geolocation</th>\n",
       "      <th>county_geolocation</th>\n",
       "      <th>city_pop</th>\n",
       "    </tr>\n",
       "  </thead>\n",
       "  <tbody>\n",
       "    <tr>\n",
       "      <th>0</th>\n",
       "      <td>NY</td>\n",
       "      <td>New York</td>\n",
       "      <td>Kings</td>\n",
       "      <td>(40.694960689, -73.9313850409)</td>\n",
       "      <td>(40.6447, -73.9472)</td>\n",
       "      <td>8175133</td>\n",
       "    </tr>\n",
       "    <tr>\n",
       "      <th>1</th>\n",
       "      <td>CA</td>\n",
       "      <td>Los Angeles</td>\n",
       "      <td>Los Angeles</td>\n",
       "      <td>(34.1182277898, -118.408500088)</td>\n",
       "      <td>(34.3203, -118.2252)</td>\n",
       "      <td>3792621</td>\n",
       "    </tr>\n",
       "    <tr>\n",
       "      <th>2</th>\n",
       "      <td>IL</td>\n",
       "      <td>Chicago</td>\n",
       "      <td>Cook</td>\n",
       "      <td>(41.8372950615, -87.6862308732)</td>\n",
       "      <td>(41.8399, -87.8167)</td>\n",
       "      <td>2695598</td>\n",
       "    </tr>\n",
       "    <tr>\n",
       "      <th>3</th>\n",
       "      <td>TX</td>\n",
       "      <td>Houston</td>\n",
       "      <td>Harris</td>\n",
       "      <td>(29.7806691396, -95.3860033966)</td>\n",
       "      <td>(29.8588, -95.3963)</td>\n",
       "      <td>2099451</td>\n",
       "    </tr>\n",
       "    <tr>\n",
       "      <th>4</th>\n",
       "      <td>PA</td>\n",
       "      <td>Philadelphia</td>\n",
       "      <td>Philadelphia</td>\n",
       "      <td>(40.0093147808, -75.1333888571)</td>\n",
       "      <td>(40.0076, -75.1338)</td>\n",
       "      <td>1526006</td>\n",
       "    </tr>\n",
       "  </tbody>\n",
       "</table>\n",
       "</div>"
      ],
      "text/plain": [
       "  state          city        county                 city_geolocation  \\\n",
       "0    NY      New York         Kings   (40.694960689, -73.9313850409)   \n",
       "1    CA   Los Angeles   Los Angeles  (34.1182277898, -118.408500088)   \n",
       "2    IL       Chicago          Cook  (41.8372950615, -87.6862308732)   \n",
       "3    TX       Houston        Harris  (29.7806691396, -95.3860033966)   \n",
       "4    PA  Philadelphia  Philadelphia  (40.0093147808, -75.1333888571)   \n",
       "\n",
       "     county_geolocation  city_pop  \n",
       "0   (40.6447, -73.9472)   8175133  \n",
       "1  (34.3203, -118.2252)   3792621  \n",
       "2   (41.8399, -87.8167)   2695598  \n",
       "3   (29.8588, -95.3963)   2099451  \n",
       "4   (40.0076, -75.1338)   1526006  "
      ]
     },
     "execution_count": 13,
     "metadata": {},
     "output_type": "execute_result"
    }
   ],
   "source": [
    "complete_df.head()"
   ]
  },
  {
   "cell_type": "markdown",
   "metadata": {},
   "source": [
    "### Build matrix of distances between counties"
   ]
  },
  {
   "cell_type": "code",
   "execution_count": 14,
   "metadata": {},
   "outputs": [],
   "source": [
    "# Pre-populate array (rows are the assigned centers, columns are each existing county)\n",
    "counties_dists = np.ones(shape=(complete_df.shape[0], counties_df.shape[0])) * -1.0\n",
    "\n",
    "for i in range(complete_df.shape[0]):\n",
    "    \n",
    "    # Compute distance from selected county to all other counties within the same state\n",
    "    dists = []\n",
    "    center_coord = complete_df.iloc[i]['county_geolocation']\n",
    "\n",
    "    counties_state_df = counties_df[counties_df.state == complete_df.iloc[i]['state']]\n",
    "    nonzero_indices = counties_state_df.index\n",
    "    \n",
    "    for j, county in enumerate(counties_state_df.county):\n",
    "        county_coord = counties_state_df.iloc[j]['geolocation']\n",
    "        dists.append(gd.distance(center_coord, county_coord).km)\n",
    "    \n",
    "    counties_dists[i, nonzero_indices] = dists"
   ]
  },
  {
   "cell_type": "code",
   "execution_count": 15,
   "metadata": {},
   "outputs": [],
   "source": [
    "counties_dists_df = pd.DataFrame(counties_dists, \n",
    "                                 columns=counties_df.county.to_numpy(), \n",
    "                                 index=complete_df.county.to_numpy())"
   ]
  },
  {
   "cell_type": "code",
   "execution_count": 16,
   "metadata": {},
   "outputs": [
    {
     "data": {
      "text/html": [
       "<div>\n",
       "<style scoped>\n",
       "    .dataframe tbody tr th:only-of-type {\n",
       "        vertical-align: middle;\n",
       "    }\n",
       "\n",
       "    .dataframe tbody tr th {\n",
       "        vertical-align: top;\n",
       "    }\n",
       "\n",
       "    .dataframe thead th {\n",
       "        text-align: right;\n",
       "    }\n",
       "</style>\n",
       "<table border=\"1\" class=\"dataframe\">\n",
       "  <thead>\n",
       "    <tr style=\"text-align: right;\">\n",
       "      <th></th>\n",
       "      <th>Washington</th>\n",
       "      <th>McIntosh</th>\n",
       "      <th>Liberty</th>\n",
       "      <th>Swains Island</th>\n",
       "      <th>Manu'a</th>\n",
       "      <th>Western</th>\n",
       "      <th>Eastern</th>\n",
       "      <th>Anasco</th>\n",
       "      <th>Arroyo</th>\n",
       "      <th>Barceloneta</th>\n",
       "      <th>...</th>\n",
       "      <th>Petersburg Census Area</th>\n",
       "      <th>Skagway</th>\n",
       "      <th>Valdez-Cordova</th>\n",
       "      <th>Erie</th>\n",
       "      <th>New York (Manhattan)</th>\n",
       "      <th>York</th>\n",
       "      <th>Kenedy</th>\n",
       "      <th>Willacy</th>\n",
       "      <th>Chippewa</th>\n",
       "      <th>Curry</th>\n",
       "    </tr>\n",
       "  </thead>\n",
       "  <tbody>\n",
       "    <tr>\n",
       "      <th>Kings</th>\n",
       "      <td>-1.0</td>\n",
       "      <td>-1.0</td>\n",
       "      <td>-1.0</td>\n",
       "      <td>-1.0</td>\n",
       "      <td>-1.0</td>\n",
       "      <td>-1.0</td>\n",
       "      <td>-1.0</td>\n",
       "      <td>-1.0</td>\n",
       "      <td>-1.0</td>\n",
       "      <td>-1.0</td>\n",
       "      <td>...</td>\n",
       "      <td>-1.0</td>\n",
       "      <td>-1.0</td>\n",
       "      <td>-1.0</td>\n",
       "      <td>462.316462</td>\n",
       "      <td>14.968662</td>\n",
       "      <td>-1.0</td>\n",
       "      <td>-1.000000</td>\n",
       "      <td>-1.000000</td>\n",
       "      <td>-1.0</td>\n",
       "      <td>-1.0</td>\n",
       "    </tr>\n",
       "    <tr>\n",
       "      <th>Los Angeles</th>\n",
       "      <td>-1.0</td>\n",
       "      <td>-1.0</td>\n",
       "      <td>-1.0</td>\n",
       "      <td>-1.0</td>\n",
       "      <td>-1.0</td>\n",
       "      <td>-1.0</td>\n",
       "      <td>-1.0</td>\n",
       "      <td>-1.0</td>\n",
       "      <td>-1.0</td>\n",
       "      <td>-1.0</td>\n",
       "      <td>...</td>\n",
       "      <td>-1.0</td>\n",
       "      <td>-1.0</td>\n",
       "      <td>-1.0</td>\n",
       "      <td>-1.000000</td>\n",
       "      <td>-1.000000</td>\n",
       "      <td>-1.0</td>\n",
       "      <td>-1.000000</td>\n",
       "      <td>-1.000000</td>\n",
       "      <td>-1.0</td>\n",
       "      <td>-1.0</td>\n",
       "    </tr>\n",
       "    <tr>\n",
       "      <th>Cook</th>\n",
       "      <td>-1.0</td>\n",
       "      <td>-1.0</td>\n",
       "      <td>-1.0</td>\n",
       "      <td>-1.0</td>\n",
       "      <td>-1.0</td>\n",
       "      <td>-1.0</td>\n",
       "      <td>-1.0</td>\n",
       "      <td>-1.0</td>\n",
       "      <td>-1.0</td>\n",
       "      <td>-1.0</td>\n",
       "      <td>...</td>\n",
       "      <td>-1.0</td>\n",
       "      <td>-1.0</td>\n",
       "      <td>-1.0</td>\n",
       "      <td>-1.000000</td>\n",
       "      <td>-1.000000</td>\n",
       "      <td>-1.0</td>\n",
       "      <td>-1.000000</td>\n",
       "      <td>-1.000000</td>\n",
       "      <td>-1.0</td>\n",
       "      <td>-1.0</td>\n",
       "    </tr>\n",
       "    <tr>\n",
       "      <th>Harris</th>\n",
       "      <td>-1.0</td>\n",
       "      <td>-1.0</td>\n",
       "      <td>-1.0</td>\n",
       "      <td>-1.0</td>\n",
       "      <td>-1.0</td>\n",
       "      <td>-1.0</td>\n",
       "      <td>-1.0</td>\n",
       "      <td>-1.0</td>\n",
       "      <td>-1.0</td>\n",
       "      <td>-1.0</td>\n",
       "      <td>...</td>\n",
       "      <td>-1.0</td>\n",
       "      <td>-1.0</td>\n",
       "      <td>-1.0</td>\n",
       "      <td>-1.000000</td>\n",
       "      <td>-1.000000</td>\n",
       "      <td>-1.0</td>\n",
       "      <td>396.503158</td>\n",
       "      <td>436.998932</td>\n",
       "      <td>-1.0</td>\n",
       "      <td>-1.0</td>\n",
       "    </tr>\n",
       "    <tr>\n",
       "      <th>Philadelphia</th>\n",
       "      <td>-1.0</td>\n",
       "      <td>-1.0</td>\n",
       "      <td>-1.0</td>\n",
       "      <td>-1.0</td>\n",
       "      <td>-1.0</td>\n",
       "      <td>-1.0</td>\n",
       "      <td>-1.0</td>\n",
       "      <td>-1.0</td>\n",
       "      <td>-1.0</td>\n",
       "      <td>-1.0</td>\n",
       "      <td>...</td>\n",
       "      <td>-1.0</td>\n",
       "      <td>-1.0</td>\n",
       "      <td>-1.0</td>\n",
       "      <td>-1.000000</td>\n",
       "      <td>-1.000000</td>\n",
       "      <td>-1.0</td>\n",
       "      <td>-1.000000</td>\n",
       "      <td>-1.000000</td>\n",
       "      <td>-1.0</td>\n",
       "      <td>-1.0</td>\n",
       "    </tr>\n",
       "  </tbody>\n",
       "</table>\n",
       "<p>5 rows × 3323 columns</p>\n",
       "</div>"
      ],
      "text/plain": [
       "              Washington  McIntosh  Liberty  Swains Island  Manu'a  Western  \\\n",
       "Kings               -1.0      -1.0     -1.0           -1.0    -1.0     -1.0   \n",
       "Los Angeles         -1.0      -1.0     -1.0           -1.0    -1.0     -1.0   \n",
       "Cook                -1.0      -1.0     -1.0           -1.0    -1.0     -1.0   \n",
       "Harris              -1.0      -1.0     -1.0           -1.0    -1.0     -1.0   \n",
       "Philadelphia        -1.0      -1.0     -1.0           -1.0    -1.0     -1.0   \n",
       "\n",
       "              Eastern  Anasco  Arroyo  Barceloneta  ...  \\\n",
       "Kings            -1.0    -1.0    -1.0         -1.0  ...   \n",
       "Los Angeles      -1.0    -1.0    -1.0         -1.0  ...   \n",
       "Cook             -1.0    -1.0    -1.0         -1.0  ...   \n",
       "Harris           -1.0    -1.0    -1.0         -1.0  ...   \n",
       "Philadelphia     -1.0    -1.0    -1.0         -1.0  ...   \n",
       "\n",
       "              Petersburg Census Area  Skagway  Valdez-Cordova        Erie  \\\n",
       "Kings                           -1.0     -1.0            -1.0  462.316462   \n",
       "Los Angeles                     -1.0     -1.0            -1.0   -1.000000   \n",
       "Cook                            -1.0     -1.0            -1.0   -1.000000   \n",
       "Harris                          -1.0     -1.0            -1.0   -1.000000   \n",
       "Philadelphia                    -1.0     -1.0            -1.0   -1.000000   \n",
       "\n",
       "              New York (Manhattan)  York      Kenedy     Willacy  Chippewa  \\\n",
       "Kings                    14.968662  -1.0   -1.000000   -1.000000      -1.0   \n",
       "Los Angeles              -1.000000  -1.0   -1.000000   -1.000000      -1.0   \n",
       "Cook                     -1.000000  -1.0   -1.000000   -1.000000      -1.0   \n",
       "Harris                   -1.000000  -1.0  396.503158  436.998932      -1.0   \n",
       "Philadelphia             -1.000000  -1.0   -1.000000   -1.000000      -1.0   \n",
       "\n",
       "              Curry  \n",
       "Kings          -1.0  \n",
       "Los Angeles    -1.0  \n",
       "Cook           -1.0  \n",
       "Harris         -1.0  \n",
       "Philadelphia   -1.0  \n",
       "\n",
       "[5 rows x 3323 columns]"
      ]
     },
     "execution_count": 16,
     "metadata": {},
     "output_type": "execute_result"
    }
   ],
   "source": [
    "counties_dists_df.head()"
   ]
  },
  {
   "cell_type": "code",
   "execution_count": 17,
   "metadata": {},
   "outputs": [
    {
     "data": {
      "text/plain": [
       "Yates                   343.516674\n",
       "Allegany                385.075581\n",
       "Broome                  229.867055\n",
       "Cattaraugus             433.591751\n",
       "Chemung                 288.013523\n",
       "                           ...    \n",
       "Queens                   18.021122\n",
       "Kings                     0.000000\n",
       "Jefferson               410.433725\n",
       "Erie                    462.316462\n",
       "New York (Manhattan)     14.968662\n",
       "Name: Kings, Length: 67, dtype: float64"
      ]
     },
     "execution_count": 17,
     "metadata": {},
     "output_type": "execute_result"
    }
   ],
   "source": [
    "# One more sanity check (check distance of center with itself is 0)\n",
    "example = counties_dists_df.loc[\"Kings\"]\n",
    "example[example > -1]"
   ]
  },
  {
   "cell_type": "markdown",
   "metadata": {},
   "source": [
    "### Save all these big boys"
   ]
  },
  {
   "cell_type": "code",
   "execution_count": 18,
   "metadata": {},
   "outputs": [],
   "source": [
    "complete_df.to_csv('selected_centers.csv')\n",
    "counties_dists_df.to_csv('counties_distances.csv')"
   ]
  }
 ],
 "metadata": {
  "kernelspec": {
   "display_name": "Python 3",
   "language": "python",
   "name": "python3"
  },
  "language_info": {
   "codemirror_mode": {
    "name": "ipython",
    "version": 3
   },
   "file_extension": ".py",
   "mimetype": "text/x-python",
   "name": "python",
   "nbconvert_exporter": "python",
   "pygments_lexer": "ipython3",
   "version": "3.8.5"
  }
 },
 "nbformat": 4,
 "nbformat_minor": 1
}
