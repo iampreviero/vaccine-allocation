{
 "cells": [
  {
   "cell_type": "code",
   "execution_count": 31,
   "metadata": {},
   "outputs": [
    {
     "name": "stdout",
     "output_type": "stream",
     "text": [
      "/Users/alessandropreviero/Desktop/vaccine-allocation/src\n"
     ]
    }
   ],
   "source": [
    "cd /Users/alessandropreviero/Desktop/vaccine-allocation/src"
   ]
  },
  {
   "cell_type": "code",
   "execution_count": 32,
   "metadata": {},
   "outputs": [],
   "source": [
    "import pandas as pd\n",
    "import numpy as np\n",
    "import pickle\n",
    "from models.prescriptive_delphi_model import DELPHISolution"
   ]
  },
  {
   "cell_type": "code",
   "execution_count": 33,
   "metadata": {},
   "outputs": [],
   "source": [
    "solution_dir = '/Users/alessandropreviero/Desktop/vaccine-allocation/data/outputs/optimized-solution-0.pickle'"
   ]
  },
  {
   "cell_type": "code",
   "execution_count": 34,
   "metadata": {},
   "outputs": [],
   "source": [
    "with open(solution_dir, 'rb') as f:\n",
    "    solution = pickle.load(f)"
   ]
  },
  {
   "cell_type": "code",
   "execution_count": 35,
   "metadata": {},
   "outputs": [],
   "source": [
    "optimal_locations = solution.locations\n",
    "infectious = solution.infectious\n",
    "hospitalized_recovering = solution.hospitalized_recovering\n",
    "quarantined_recovering = solution.quarantined_recovering\n",
    "undetected_recovering = solution.undetected_recovering"
   ]
  },
  {
   "cell_type": "code",
   "execution_count": 36,
   "metadata": {},
   "outputs": [],
   "source": [
    "active_cases = infectious + hospitalized_recovering + quarantined_recovering + undetected_recovering\n",
    "active_cases = active_cases.sum(axis=1)\n",
    "active_cases_flat = active_cases.flatten('F')"
   ]
  },
  {
   "cell_type": "code",
   "execution_count": 37,
   "metadata": {},
   "outputs": [],
   "source": [
    "states = pd.read_csv('/Users/alessandropreviero/Desktop/vaccine-allocation/data/inputs/county_pop_clean.csv')\n",
    "states_names = states['state'].unique()\n",
    "repeated_arr = np.tile(states_names, 91)"
   ]
  },
  {
   "cell_type": "code",
   "execution_count": 38,
   "metadata": {},
   "outputs": [],
   "source": [
    "long_df = pd.DataFrame({'states': repeated_arr, 'active_cases':active_cases_flat})\n",
    "long_df['day'] = np.repeat(np.arange(91), 51)"
   ]
  },
  {
   "cell_type": "code",
   "execution_count": 39,
   "metadata": {},
   "outputs": [],
   "source": [
    "locations_df = pd.DataFrame({'state': states_names, 'num_locations': optimal_locations})"
   ]
  },
  {
   "cell_type": "code",
   "execution_count": 40,
   "metadata": {},
   "outputs": [],
   "source": [
    "long_df.to_csv('optimal_active_cases_map.csv')\n",
    "locations_df.to_csv('optimal_num_locations_states.csv')"
   ]
  },
  {
   "cell_type": "code",
   "execution_count": null,
   "metadata": {},
   "outputs": [],
   "source": []
  }
 ],
 "metadata": {
  "kernelspec": {
   "display_name": "Python 3",
   "language": "python",
   "name": "python3"
  },
  "language_info": {
   "codemirror_mode": {
    "name": "ipython",
    "version": 3
   },
   "file_extension": ".py",
   "mimetype": "text/x-python",
   "name": "python",
   "nbconvert_exporter": "python",
   "pygments_lexer": "ipython3",
   "version": "3.8.5"
  }
 },
 "nbformat": 4,
 "nbformat_minor": 4
}
