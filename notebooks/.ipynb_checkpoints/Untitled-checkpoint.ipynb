{
 "cells": [
  {
   "cell_type": "code",
   "execution_count": 5,
   "metadata": {},
   "outputs": [],
   "source": [
    "import pandas as pd\n",
    "import numpy as np"
   ]
  },
  {
   "cell_type": "code",
   "execution_count": 12,
   "metadata": {},
   "outputs": [],
   "source": [
    "data = pd.read_csv('/Users/alessandropreviero/Desktop/vaccine-allocation/data/inputs/population.csv')\n",
    "county_pop = pd.read_csv('/Users/alessandropreviero/Desktop/vaccine-allocation/data/inputs/county_pop_clean.csv')\n"
   ]
  },
  {
   "cell_type": "code",
   "execution_count": 13,
   "metadata": {},
   "outputs": [
    {
     "data": {
      "text/plain": [
       "array(['AK', 'AL', 'AR', 'AZ', 'CA', 'CO', 'CT', 'DC', 'DE', 'FL', 'GA',\n",
       "       'HI', 'IA', 'ID', 'IL', 'IN', 'KS', 'KY', 'LA', 'MA', 'MD', 'ME',\n",
       "       'MI', 'MN', 'MO', 'MS', 'MT', 'NC', 'ND', 'NE', 'NH', 'NJ', 'NM',\n",
       "       'NV', 'NY', 'OH', 'OK', 'OR', 'PA', 'RI', 'SC', 'SD', 'TN', 'TX',\n",
       "       'UT', 'VA', 'VT', 'WA', 'WI', 'WV', 'WY'], dtype=object)"
      ]
     },
     "execution_count": 13,
     "metadata": {},
     "output_type": "execute_result"
    }
   ],
   "source": [
    "county_pop.state.unique()"
   ]
  },
  {
   "cell_type": "code",
   "execution_count": 11,
   "metadata": {},
   "outputs": [
    {
     "data": {
      "text/plain": [
       "array(['Alabama', 'Alaska', 'Arizona', 'Arkansas', 'California',\n",
       "       'Colorado', 'Connecticut', 'Delaware', 'District of Columbia',\n",
       "       'Florida', 'Georgia', 'Hawaii', 'Idaho', 'Illinois', 'Indiana',\n",
       "       'Iowa', 'Kansas', 'Kentucky', 'Louisiana', 'Maine', 'Maryland',\n",
       "       'Massachusetts', 'Michigan', 'Minnesota', 'Mississippi',\n",
       "       'Missouri', 'Montana', 'Nebraska', 'Nevada', 'New Hampshire',\n",
       "       'New Jersey', 'New Mexico', 'New York', 'North Carolina',\n",
       "       'North Dakota', 'Ohio', 'Oklahoma', 'Oregon', 'Pennsylvania',\n",
       "       'Rhode Island', 'South Carolina', 'South Dakota', 'Tennessee',\n",
       "       'Texas', 'Utah', 'Vermont', 'Virginia', 'Washington',\n",
       "       'West Virginia', 'Wisconsin', 'Wyoming'], dtype=object)"
      ]
     },
     "execution_count": 11,
     "metadata": {},
     "output_type": "execute_result"
    }
   ],
   "source": [
    "states = data[\"state\"].unique()\n",
    "states"
   ]
  },
  {
   "cell_type": "code",
   "execution_count": 7,
   "metadata": {},
   "outputs": [],
   "source": [
    "RISK_CLASSES = [\n",
    "    dict(min_age=0.0, max_age=9.0),\n",
    "    dict(min_age=10.0, max_age=49.0),\n",
    "    dict(min_age=50.0, max_age=59.0),\n",
    "    dict(min_age=60.0, max_age=69.0),\n",
    "    dict(min_age=70.0, max_age=79.0),\n",
    "    dict(min_age=80.0, max_age=np.inf)\n",
    "]\n",
    "\n",
    "def get_population_by_state_and_risk_class(pop_df: pd.DataFrame) -> np.ndarray:\n",
    "    states = pop_df[\"state\"].unique()\n",
    "    population = np.zeros((len(states), len(RISK_CLASSES)))\n",
    "    for j, state in enumerate(states):\n",
    "        for k, risk_class in enumerate(RISK_CLASSES):\n",
    "            population[j, k] = pop_df[\n",
    "                (pop_df[\"min_age\"] >= risk_class[\"min_age\"])\n",
    "                & (pop_df[\"max_age\"] <= risk_class[\"max_age\"])\n",
    "                & (pop_df[\"state\"] == state)\n",
    "                ][\"population\"].sum()\n",
    "    return population"
   ]
  },
  {
   "cell_type": "code",
   "execution_count": 8,
   "metadata": {},
   "outputs": [
    {
     "data": {
      "text/plain": [
       "array([[5.9110300e+05, 2.5002030e+06, 6.5130300e+05, 5.8916700e+05,\n",
       "        3.6778000e+05, 1.8831500e+05],\n",
       "       [1.0517100e+05, 4.0609500e+05, 9.3805000e+04, 8.0434000e+04,\n",
       "        3.7370000e+04, 1.4563000e+04],\n",
       "       [8.8766200e+05, 3.7408320e+06, 8.6071000e+05, 8.1392100e+05,\n",
       "        5.7592700e+05, 2.9259400e+05],\n",
       "       [3.8362700e+05, 1.5494090e+06, 3.8265800e+05, 3.4886500e+05,\n",
       "        2.2868400e+05, 1.2058200e+05],\n",
       "       [4.9302020e+06, 2.1672701e+07, 5.0227010e+06, 4.1155180e+06,\n",
       "        2.4090300e+06, 1.4068930e+06],\n",
       "       [6.8480700e+05, 3.1493380e+06, 7.0986600e+05, 6.3140100e+05,\n",
       "        3.4682800e+05, 1.7332400e+05],\n",
       "       [3.7914500e+05, 1.8066190e+06, 5.2944200e+05, 4.3265800e+05,\n",
       "        2.6063600e+05, 1.6416500e+05],\n",
       "       [1.1105800e+05, 4.7532900e+05, 1.3285200e+05, 1.2636000e+05,\n",
       "        8.1485000e+04, 4.0087000e+04],\n",
       "       [8.3239000e+04, 4.2694500e+05, 7.3342000e+04, 6.1610000e+04,\n",
       "        3.5539000e+04, 2.1780000e+04],\n",
       "       [2.3007700e+06, 1.0391366e+07, 2.8650970e+06, 2.6559010e+06,\n",
       "        1.9592080e+06, 1.1269830e+06],\n",
       "       [1.3433180e+06, 5.7370470e+06, 1.3753660e+06, 1.1043110e+06,\n",
       "        6.5418300e+05, 3.0525000e+05],\n",
       "       [1.7457300e+05, 7.1910500e+05, 1.7592600e+05, 1.7241200e+05,\n",
       "        1.0883600e+05, 6.9639000e+04],\n",
       "       [2.3930400e+05, 9.2351900e+05, 2.0686100e+05, 2.0078700e+05,\n",
       "        1.2386400e+05, 5.9873000e+04],\n",
       "       [1.5387210e+06, 6.7222540e+06, 1.6895550e+06, 1.4471630e+06,\n",
       "        8.4110000e+05, 5.0228700e+05],\n",
       "       [8.4865000e+05, 3.4941830e+06, 8.7166000e+05, 7.7288900e+05,\n",
       "        4.5096900e+05, 2.5352700e+05],\n",
       "       [3.9933300e+05, 1.6103810e+06, 4.0297100e+05, 3.7632300e+05,\n",
       "        2.2086700e+05, 1.4627000e+05],\n",
       "       [3.8695600e+05, 1.5199350e+06, 3.6063700e+05, 3.3199800e+05,\n",
       "        1.9100600e+05, 1.2097300e+05],\n",
       "       [5.5213800e+05, 2.2971110e+06, 5.9906300e+05, 5.3452300e+05,\n",
       "        3.2104500e+05, 1.6452200e+05],\n",
       "       [6.0858600e+05, 2.4388330e+06, 6.0019300e+05, 5.3681800e+05,\n",
       "        3.1169500e+05, 1.6385300e+05],\n",
       "       [1.3187800e+05, 6.2408300e+05, 2.0161500e+05, 1.9655600e+05,\n",
       "        1.1922500e+05, 6.5047000e+04],\n",
       "       [7.3494800e+05, 3.1423140e+06, 8.5389900e+05, 6.8769900e+05,\n",
       "        4.0102400e+05, 2.2283400e+05],\n",
       "       [7.3017100e+05, 3.6159730e+06, 9.7021200e+05, 8.1394300e+05,\n",
       "        4.7991600e+05, 2.9193400e+05],\n",
       "       [1.1588110e+06, 5.0575480e+06, 1.3764260e+06, 1.2584820e+06,\n",
       "        7.3484800e+05, 4.0980000e+05],\n",
       "       [7.1572500e+05, 2.8966380e+06, 7.4949100e+05, 6.5400500e+05,\n",
       "        3.6885200e+05, 2.2646800e+05],\n",
       "       [3.7844400e+05, 1.5632580e+06, 3.8315800e+05, 3.4460600e+05,\n",
       "        2.0858200e+05, 1.0848200e+05],\n",
       "       [7.5066000e+05, 3.1305380e+06, 8.1203500e+05, 7.3176400e+05,\n",
       "        4.4602800e+05, 2.5542700e+05],\n",
       "       [1.2606200e+05, 5.2456200e+05, 1.3591500e+05, 1.4558600e+05,\n",
       "        8.5539000e+04, 4.4641000e+04],\n",
       "       [2.6530800e+05, 1.0069650e+06, 2.3582800e+05, 2.1681300e+05,\n",
       "        1.2440900e+05, 7.9945000e+04],\n",
       "       [3.7760200e+05, 1.6103340e+06, 3.8799500e+05, 3.4270700e+05,\n",
       "        2.2103700e+05, 9.4717000e+04],\n",
       "       [1.3338000e+05, 6.6454400e+05, 2.1129500e+05, 1.8447300e+05,\n",
       "        1.0556900e+05, 5.7197000e+04],\n",
       "       [1.0521900e+06, 4.5649380e+06, 1.2803070e+06, 1.0244740e+06,\n",
       "        6.1181700e+05, 3.7479400e+05],\n",
       "       [2.5906800e+05, 1.0744420e+06, 2.6084600e+05, 2.5655600e+05,\n",
       "        1.6110700e+05, 8.3409000e+04],\n",
       "       [2.2597680e+06, 1.0159171e+07, 2.6738080e+06, 2.2529910e+06,\n",
       "        1.3516280e+06, 8.4484300e+05],\n",
       "       [1.2382220e+06, 5.4326040e+06, 1.3765160e+06, 1.2070360e+06,\n",
       "        7.5110600e+05, 3.7813600e+05],\n",
       "       [1.0490100e+05, 4.0292300e+05, 8.9268000e+04, 8.3625000e+04,\n",
       "        4.5907000e+04, 3.3453000e+04],\n",
       "       [1.4029370e+06, 5.9275840e+06, 1.5737530e+06, 1.4451530e+06,\n",
       "        8.4518700e+05, 4.9482800e+05],\n",
       "       [5.2822600e+05, 2.0738640e+06, 4.8301800e+05, 4.3784500e+05,\n",
       "        2.7215400e+05, 1.4797200e+05],\n",
       "       [4.7678900e+05, 2.1823820e+06, 5.1839500e+05, 5.2772400e+05,\n",
       "        3.2275000e+05, 1.6267300e+05],\n",
       "       [1.4286110e+06, 6.3778260e+06, 1.7769830e+06, 1.6259080e+06,\n",
       "        9.8019000e+05, 6.1754200e+05],\n",
       "       [1.0925300e+05, 5.4342300e+05, 1.5020100e+05, 1.2990900e+05,\n",
       "        7.5611000e+04, 4.8918000e+04],\n",
       "       [5.9864600e+05, 2.5809310e+06, 6.7109100e+05, 6.3582300e+05,\n",
       "        4.1082600e+05, 1.8681000e+05],\n",
       "       [1.2289400e+05, 4.4538600e+05, 1.0915100e+05, 1.0811000e+05,\n",
       "        5.8556000e+04, 3.8138000e+04],\n",
       "       [8.1891400e+05, 3.5152400e+06, 8.9652200e+05, 7.9655700e+05,\n",
       "        4.9601700e+05, 2.4676000e+05],\n",
       "       [4.0718730e+06, 1.6087772e+07, 3.4184910e+06, 2.7478440e+06,\n",
       "        1.5673900e+06, 8.0847500e+05],\n",
       "       [5.1208200e+05, 1.8488800e+06, 3.0486700e+05, 2.6430100e+05,\n",
       "        1.5239500e+05, 7.8580000e+04],\n",
       "       [6.0953000e+04, 3.0546300e+05, 9.0884000e+04, 8.9128000e+04,\n",
       "        5.2267000e+04, 2.7604000e+04],\n",
       "       [1.0253810e+06, 4.5027280e+06, 1.1503450e+06, 9.5663200e+05,\n",
       "        5.8142900e+05, 3.0117000e+05],\n",
       "       [9.2961700e+05, 4.0217480e+06, 9.5079900e+05, 8.7088400e+05,\n",
       "        5.0521100e+05, 2.5733200e+05],\n",
       "       [1.9630000e+05, 8.7331900e+05, 2.4572300e+05, 2.5031200e+05,\n",
       "        1.5751000e+05, 8.2668000e+04],\n",
       "       [6.8418100e+05, 2.9381240e+06, 8.1097000e+05, 7.2400100e+05,\n",
       "        4.1156200e+05, 2.4473000e+05],\n",
       "       [7.3759000e+04, 2.9641400e+05, 7.1734000e+04, 7.4038000e+04,\n",
       "        4.0788000e+04, 2.1004000e+04]])"
      ]
     },
     "execution_count": 8,
     "metadata": {},
     "output_type": "execute_result"
    }
   ],
   "source": [
    "get_population_by_state_and_risk_class(data)"
   ]
  },
  {
   "cell_type": "code",
   "execution_count": null,
   "metadata": {},
   "outputs": [],
   "source": []
  }
 ],
 "metadata": {
  "kernelspec": {
   "display_name": "Python 3",
   "language": "python",
   "name": "python3"
  },
  "language_info": {
   "codemirror_mode": {
    "name": "ipython",
    "version": 3
   },
   "file_extension": ".py",
   "mimetype": "text/x-python",
   "name": "python",
   "nbconvert_exporter": "python",
   "pygments_lexer": "ipython3",
   "version": "3.8.5"
  }
 },
 "nbformat": 4,
 "nbformat_minor": 4
}
