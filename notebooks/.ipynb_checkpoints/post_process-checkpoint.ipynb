{
 "cells": [
  {
   "cell_type": "code",
   "execution_count": 76,
   "metadata": {},
   "outputs": [
    {
     "name": "stdout",
     "output_type": "stream",
     "text": [
      "/Users/vvdig/Desktop/vaccine-allocation/plan_b_plus/vaccine-allocation/src\n"
     ]
    }
   ],
   "source": [
    "cd ../src"
   ]
  },
  {
   "cell_type": "markdown",
   "metadata": {},
   "source": [
    "# Load saved solution"
   ]
  },
  {
   "cell_type": "code",
   "execution_count": 77,
   "metadata": {},
   "outputs": [],
   "source": [
    "import pandas as pd\n",
    "import datetime as dt\n",
    "import numpy as np\n",
    "import pickle\n",
    "from pipeline.data_loading import load_and_clean_delphi_predictions\n",
    "from models.prescriptive_delphi_model import DELPHISolution\n",
    "# import plotly.graph_objects as go"
   ]
  },
  {
   "cell_type": "code",
   "execution_count": 99,
   "metadata": {},
   "outputs": [],
   "source": [
    "optimized = True\n",
    "if optimized:\n",
    "    solution_dir = '../data/outputs/optimized-solution-0.pickle'\n",
    "else:\n",
    "    solution_dir = '../data/outputs/baseline-solution-0.pickle'\n",
    "\n",
    "delphi_dir = '../data/inputs/delphi-predictions.csv'"
   ]
  },
  {
   "cell_type": "code",
   "execution_count": 100,
   "metadata": {},
   "outputs": [],
   "source": [
    "with open(solution_dir, 'rb') as f:\n",
    "    solution = pickle.load(f)"
   ]
  },
  {
   "cell_type": "code",
   "execution_count": 101,
   "metadata": {},
   "outputs": [],
   "source": [
    "optimal_locations = solution.locations\n",
    "infectious = solution.infectious\n",
    "hospitalized_recovering = solution.hospitalized_recovering\n",
    "quarantined_recovering = solution.quarantined_recovering\n",
    "deceased = solution.deceased"
   ]
  },
  {
   "cell_type": "markdown",
   "metadata": {},
   "source": [
    "# Plot DELPHI predicted deaths"
   ]
  },
  {
   "cell_type": "code",
   "execution_count": 102,
   "metadata": {},
   "outputs": [],
   "source": [
    "# delphi_pred_df = load_and_clean_delphi_predictions(delphi_dir)\n",
    "# deaths = delphi_pred_df[(delphi_pred_df.date >= dt.datetime(2021, 2, 1)) &\n",
    "#                (delphi_pred_df.date <= dt.datetime(2021, 5, 2))\n",
    "#               ][['date','infectious', 'state']]"
   ]
  },
  {
   "cell_type": "code",
   "execution_count": 103,
   "metadata": {},
   "outputs": [],
   "source": [
    "# first = deaths[deaths.date == dt.datetime(2021, 2, 1)]['total_detected_deaths'].sum()\n",
    "# first"
   ]
  },
  {
   "cell_type": "code",
   "execution_count": 104,
   "metadata": {},
   "outputs": [],
   "source": [
    "# last = deaths[deaths.date == dt.datetime(2021, 5, 2)]['total_detected_deaths'].sum()\n",
    "# last-first"
   ]
  },
  {
   "cell_type": "code",
   "execution_count": 105,
   "metadata": {},
   "outputs": [],
   "source": [
    "# import plotly.express as px\n",
    "# px.line(deaths, x='date', y='total_detected_deaths', color='state')"
   ]
  },
  {
   "cell_type": "markdown",
   "metadata": {},
   "source": [
    "# Plot DELPHI active cases per state"
   ]
  },
  {
   "cell_type": "code",
   "execution_count": 106,
   "metadata": {},
   "outputs": [],
   "source": [
    "# cases = delphi_pred_df[(delphi_pred_df.date >= dt.datetime(2021, 2, 1)) &\n",
    "#                (delphi_pred_df.date <= dt.datetime(2021, 4, 30))\n",
    "#               ][['date','total_detected_cases', 'state']]\n",
    "\n",
    "# import plotly.express as px\n",
    "# px.line(cases, x='date', y='total_detected_cases', color='state')"
   ]
  },
  {
   "cell_type": "markdown",
   "metadata": {},
   "source": [
    "# Plot active cases per state across time"
   ]
  },
  {
   "cell_type": "code",
   "execution_count": 107,
   "metadata": {},
   "outputs": [],
   "source": [
    "# active_cases = infectious + hospitalized_recovering + quarantined_recovering\n",
    "# active_cases = active_cases.sum(axis=1).T"
   ]
  },
  {
   "cell_type": "code",
   "execution_count": 108,
   "metadata": {},
   "outputs": [],
   "source": [
    "# states = pd.read_csv('/Users/alessandropreviero/Desktop/vaccine-allocation/data/inputs/county_pop_clean.csv')\n",
    "# states_names = states['state'].unique()"
   ]
  },
  {
   "cell_type": "code",
   "execution_count": 109,
   "metadata": {},
   "outputs": [],
   "source": [
    "# active_cases_df = pd.DataFrame(active_cases, columns=states_names)"
   ]
  },
  {
   "cell_type": "code",
   "execution_count": 110,
   "metadata": {
    "scrolled": false
   },
   "outputs": [],
   "source": [
    "# active_plot = go.Figure()\n",
    "\n",
    "# for i in range(active_cases_df.shape[1]):\n",
    "#     active_plot.add_trace(\n",
    "#         go.Scatter(\n",
    "#             x=np.arange(91), \n",
    "#             y=active_cases_df.iloc[:, i],\n",
    "#             mode='lines',\n",
    "#             name=active_cases_df.columns[i]\n",
    "#         )\n",
    "#     )\n",
    "# active_plot.update_layout(\n",
    "#     title=\"Active cases towards recovery by state\"\n",
    "# )\n",
    "# active_plot.show()"
   ]
  },
  {
   "cell_type": "markdown",
   "metadata": {},
   "source": [
    "# Plot cumulative deaths per state"
   ]
  },
  {
   "cell_type": "code",
   "execution_count": 111,
   "metadata": {},
   "outputs": [],
   "source": [
    "# deceased = solution.deceased.sum(axis=1).T\n",
    "# deceased_df = pd.DataFrame(deceased, columns=states_names)"
   ]
  },
  {
   "cell_type": "code",
   "execution_count": 112,
   "metadata": {},
   "outputs": [],
   "source": [
    "# deaths_plot = go.Figure()\n",
    "\n",
    "# for i in range(deceased_df.shape[1]):\n",
    "#     deaths_plot.add_trace(\n",
    "#         go.Scatter(\n",
    "#             x=np.arange(91), \n",
    "#             y=deceased_df.iloc[:, i],\n",
    "#             mode='lines',\n",
    "#             name=deceased_df.columns[i]\n",
    "#         )\n",
    "#     )\n",
    "# deaths_plot.update_layout(\n",
    "#     title=\"Cumulative deaths towards recovery by state\"\n",
    "# )\n",
    "# deaths_plot.show()"
   ]
  },
  {
   "cell_type": "markdown",
   "metadata": {},
   "source": [
    "# Matching locations with states ordered by deaths"
   ]
  },
  {
   "cell_type": "code",
   "execution_count": 113,
   "metadata": {},
   "outputs": [],
   "source": [
    "# active_cases_flat = active_cases.flatten('F')"
   ]
  },
  {
   "cell_type": "code",
   "execution_count": 114,
   "metadata": {},
   "outputs": [],
   "source": [
    "states = pd.read_csv('../data/inputs/county_pop_clean_fullname.csv')\n",
    "states_names = states['state'].unique()\n",
    "repeated_arr = np.tile(states_names, 91)"
   ]
  },
  {
   "cell_type": "code",
   "execution_count": 115,
   "metadata": {},
   "outputs": [],
   "source": [
    "# long_df = pd.DataFrame({'states': repeated_arr, 'active_cases':active_cases_flat})\n",
    "# long_df['day'] = np.repeat(np.arange(91), 51)"
   ]
  },
  {
   "cell_type": "code",
   "execution_count": 116,
   "metadata": {},
   "outputs": [],
   "source": [
    "locations_df = pd.DataFrame({'state': states_names, 'num_locations': optimal_locations})"
   ]
  },
  {
   "cell_type": "code",
   "execution_count": 117,
   "metadata": {},
   "outputs": [],
   "source": [
    "deaths = solution.deceased[:,:,-1].sum(axis=1)\n",
    "locations_df['deaths'] = deaths"
   ]
  },
  {
   "cell_type": "code",
   "execution_count": 118,
   "metadata": {},
   "outputs": [
    {
     "data": {
      "text/html": [
       "<div>\n",
       "<style scoped>\n",
       "    .dataframe tbody tr th:only-of-type {\n",
       "        vertical-align: middle;\n",
       "    }\n",
       "\n",
       "    .dataframe tbody tr th {\n",
       "        vertical-align: top;\n",
       "    }\n",
       "\n",
       "    .dataframe thead th {\n",
       "        text-align: right;\n",
       "    }\n",
       "</style>\n",
       "<table border=\"1\" class=\"dataframe\">\n",
       "  <thead>\n",
       "    <tr style=\"text-align: right;\">\n",
       "      <th></th>\n",
       "      <th>state</th>\n",
       "      <th>num_locations</th>\n",
       "      <th>deaths</th>\n",
       "    </tr>\n",
       "  </thead>\n",
       "  <tbody>\n",
       "    <tr>\n",
       "      <th>0</th>\n",
       "      <td>Alabama</td>\n",
       "      <td>1.0</td>\n",
       "      <td>3928.803013</td>\n",
       "    </tr>\n",
       "    <tr>\n",
       "      <th>1</th>\n",
       "      <td>Alaska</td>\n",
       "      <td>1.0</td>\n",
       "      <td>27.196128</td>\n",
       "    </tr>\n",
       "    <tr>\n",
       "      <th>2</th>\n",
       "      <td>Arizona</td>\n",
       "      <td>5.0</td>\n",
       "      <td>8046.321583</td>\n",
       "    </tr>\n",
       "    <tr>\n",
       "      <th>3</th>\n",
       "      <td>Arkansas</td>\n",
       "      <td>2.0</td>\n",
       "      <td>1849.909273</td>\n",
       "    </tr>\n",
       "    <tr>\n",
       "      <th>4</th>\n",
       "      <td>California</td>\n",
       "      <td>10.0</td>\n",
       "      <td>21931.759510</td>\n",
       "    </tr>\n",
       "  </tbody>\n",
       "</table>\n",
       "</div>"
      ],
      "text/plain": [
       "        state  num_locations        deaths\n",
       "0     Alabama            1.0   3928.803013\n",
       "1      Alaska            1.0     27.196128\n",
       "2     Arizona            5.0   8046.321583\n",
       "3    Arkansas            2.0   1849.909273\n",
       "4  California           10.0  21931.759510"
      ]
     },
     "execution_count": 118,
     "metadata": {},
     "output_type": "execute_result"
    }
   ],
   "source": [
    "locations_df.sort_values('state', ascending=True).head()"
   ]
  },
  {
   "cell_type": "code",
   "execution_count": 119,
   "metadata": {},
   "outputs": [],
   "source": [
    "# long_df.to_csv('optimal_active_cases_map.csv')\n",
    "if optimized:\n",
    "    locations_df.to_csv('../data/outputs/optimal_solution.csv')\n",
    "else:\n",
    "    locations_df.to_csv('../data/outputs/baseline_solution.csv')"
   ]
  },
  {
   "cell_type": "markdown",
   "metadata": {},
   "source": [
    "### For Micheal if he wants to plot the map!"
   ]
  },
  {
   "cell_type": "code",
   "execution_count": 120,
   "metadata": {},
   "outputs": [],
   "source": [
    "import us \n",
    "deaths = solution.deceased[:,:,-1].sum(axis=1)\n",
    "names = [us.states.lookup(x).name for x in states_names]\n",
    "\n",
    "deaths_opt_df = pd.DataFrame(deaths, columns=['deaths'])\n",
    "deaths_opt_df['state'] = names"
   ]
  },
  {
   "cell_type": "code",
   "execution_count": 30,
   "metadata": {},
   "outputs": [
    {
     "data": {
      "text/html": [
       "<div>\n",
       "<style scoped>\n",
       "    .dataframe tbody tr th:only-of-type {\n",
       "        vertical-align: middle;\n",
       "    }\n",
       "\n",
       "    .dataframe tbody tr th {\n",
       "        vertical-align: top;\n",
       "    }\n",
       "\n",
       "    .dataframe thead th {\n",
       "        text-align: right;\n",
       "    }\n",
       "</style>\n",
       "<table border=\"1\" class=\"dataframe\">\n",
       "  <thead>\n",
       "    <tr style=\"text-align: right;\">\n",
       "      <th></th>\n",
       "      <th>deaths</th>\n",
       "      <th>state</th>\n",
       "    </tr>\n",
       "  </thead>\n",
       "  <tbody>\n",
       "    <tr>\n",
       "      <th>0</th>\n",
       "      <td>3943.022351</td>\n",
       "      <td>Alaska</td>\n",
       "    </tr>\n",
       "    <tr>\n",
       "      <th>1</th>\n",
       "      <td>27.800483</td>\n",
       "      <td>Alabama</td>\n",
       "    </tr>\n",
       "    <tr>\n",
       "      <th>2</th>\n",
       "      <td>8137.990245</td>\n",
       "      <td>Arkansas</td>\n",
       "    </tr>\n",
       "    <tr>\n",
       "      <th>3</th>\n",
       "      <td>1899.884323</td>\n",
       "      <td>Arizona</td>\n",
       "    </tr>\n",
       "    <tr>\n",
       "      <th>4</th>\n",
       "      <td>21993.783738</td>\n",
       "      <td>California</td>\n",
       "    </tr>\n",
       "  </tbody>\n",
       "</table>\n",
       "</div>"
      ],
      "text/plain": [
       "         deaths       state\n",
       "0   3943.022351      Alaska\n",
       "1     27.800483     Alabama\n",
       "2   8137.990245    Arkansas\n",
       "3   1899.884323     Arizona\n",
       "4  21993.783738  California"
      ]
     },
     "execution_count": 30,
     "metadata": {},
     "output_type": "execute_result"
    }
   ],
   "source": [
    "deaths_opt_df.head()"
   ]
  },
  {
   "cell_type": "code",
   "execution_count": null,
   "metadata": {},
   "outputs": [],
   "source": []
  }
 ],
 "metadata": {
  "kernelspec": {
   "display_name": "Python 3",
   "language": "python",
   "name": "python3"
  },
  "language_info": {
   "codemirror_mode": {
    "name": "ipython",
    "version": 3
   },
   "file_extension": ".py",
   "mimetype": "text/x-python",
   "name": "python",
   "nbconvert_exporter": "python",
   "pygments_lexer": "ipython3",
   "version": "3.7.4"
  }
 },
 "nbformat": 4,
 "nbformat_minor": 4
}
