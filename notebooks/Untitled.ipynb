{
 "cells": [
  {
   "cell_type": "code",
   "execution_count": 1,
   "metadata": {},
   "outputs": [],
   "source": [
    "import pandas as pd\n",
    "import numpy as np\n",
    "import us"
   ]
  },
  {
   "cell_type": "code",
   "execution_count": 2,
   "metadata": {},
   "outputs": [],
   "source": [
    "cdc_df = pd.read_csv('/Users/alessandropreviero/Desktop/vaccine-allocation/data/inputs/cdc-data.csv')\n",
    "delphi_path = '/Users/alessandropreviero/Desktop/vaccine-allocation/data/inputs/delphi-parameters.csv'\n",
    "pop_df = pd.read_csv('/Users/alessandropreviero/Desktop/vaccine-allocation/data/inputs/population.csv')"
   ]
  },
  {
   "cell_type": "code",
   "execution_count": 3,
   "metadata": {},
   "outputs": [],
   "source": [
    "RISK_CLASSES = [\n",
    "    dict(min_age=0.0, max_age=9.0),\n",
    "    dict(min_age=10.0, max_age=49.0),\n",
    "    dict(min_age=50.0, max_age=59.0),\n",
    "    dict(min_age=60.0, max_age=69.0),\n",
    "    dict(min_age=70.0, max_age=79.0),\n",
    "    dict(min_age=80.0, max_age=np.inf)\n",
    "]\n",
    "N_REGIONS = 51  # All 50 US states plus Washington D.C.\n",
    "N_RISK_CLASSES = len(RISK_CLASSES)\n",
    "\n",
    "def load_and_clean_delphi_params(path: str) -> pd.DataFrame:\n",
    "    # Load data from CSV file\n",
    "    df = pd.read_csv(path)\n",
    "\n",
    "    # Filter down to US only\n",
    "    df = df[\n",
    "        (df[\"Country\"] == \"US\")\n",
    "        & (df[\"Province\"] != \"None\")\n",
    "    ].drop([\"Continent\", \"Country\", \"MAPE\"], axis=1)\n",
    "\n",
    "    # Rename columns\n",
    "    df.rename(\n",
    "        columns={\n",
    "            \"Province\": \"state\",\n",
    "            \"Data Start Date\": \"start_date\",\n",
    "            \"Median Day of Action\": \"intervention_time\",\n",
    "            \"Rate of Action\": \"intervention_rate\",\n",
    "            \"Infection Rate\": \"infection_rate\",\n",
    "            \"Rate of Death\": \"death_rate\",\n",
    "            \"Mortality Rate\": \"mortality_rate\",\n",
    "            \"Rate of Mortality Rate Decay\": \"mortality_rate_decay\",\n",
    "            \"Internal Parameter 1\": \"exposed_initial_param\",\n",
    "            \"Internal Parameter 2\": \"infected_initial_param\",\n",
    "            \"Jump Magnitude\": \"jump_magnitude\",\n",
    "            \"Jump Time\": \"jump_time\",\n",
    "            \"Jump Decay\": \"jump_decay\"\n",
    "        },\n",
    "        inplace=True\n",
    "    )\n",
    "\n",
    "    # Cast start date as datetime object\n",
    "    df[\"start_date\"] = pd.to_datetime(df[\"start_date\"])\n",
    "\n",
    "    return df.set_index(\"state\")"
   ]
  },
  {
   "cell_type": "code",
   "execution_count": 4,
   "metadata": {},
   "outputs": [],
   "source": [
    "def get_population_by_state_and_risk_class(pop_df: pd.DataFrame) -> np.ndarray:\n",
    "\n",
    "    states = list(pop_df.state.unique())\n",
    "    population = np.zeros((len(states), len(RISK_CLASSES)))\n",
    "\n",
    "    for j, state in enumerate(states):\n",
    "        for k, risk_class in enumerate(RISK_CLASSES):\n",
    "            population[j, k] = pop_df[\n",
    "                (pop_df[\"min_age\"] >= risk_class[\"min_age\"])\n",
    "                & (pop_df[\"max_age\"] <= risk_class[\"max_age\"])\n",
    "                & (pop_df[\"state\"] == state)\n",
    "                ][\"population\"].sum()\n",
    "    return population\n"
   ]
  },
  {
   "cell_type": "code",
   "execution_count": 5,
   "metadata": {},
   "outputs": [
    {
     "data": {
      "text/plain": [
       "(51, 6)"
      ]
     },
     "execution_count": 5,
     "metadata": {},
     "output_type": "execute_result"
    }
   ],
   "source": [
    "pop_mat = get_population_by_state_and_risk_class(pop_df)\n",
    "pop_mat.shape"
   ]
  },
  {
   "cell_type": "code",
   "execution_count": 7,
   "metadata": {},
   "outputs": [],
   "source": [
    "delphi_df = load_and_clean_delphi_params(delphi_path)"
   ]
  },
  {
   "cell_type": "code",
   "execution_count": 9,
   "metadata": {},
   "outputs": [],
   "source": [
    "baseline_mortality_rate = np.zeros(N_RISK_CLASSES)\n",
    "for k, risk_class in enumerate(RISK_CLASSES):\n",
    "    cases, deaths = cdc_df[\n",
    "        (cdc_df[\"min_age\"] >= risk_class[\"min_age\"])\n",
    "        & (cdc_df[\"max_age\"] <= risk_class[\"max_age\"])\n",
    "        ][[\"cases\", \"deaths\"]].sum()\n",
    "    baseline_mortality_rate[k] = deaths / cases "
   ]
  },
  {
   "cell_type": "code",
   "execution_count": 10,
   "metadata": {},
   "outputs": [
    {
     "data": {
      "text/plain": [
       "array([1.00000000e+00, 1.56957003e+01, 1.16118559e+02, 2.98854249e+02,\n",
       "       8.02736477e+02, 1.97728353e+03])"
      ]
     },
     "execution_count": 10,
     "metadata": {},
     "output_type": "execute_result"
    }
   ],
   "source": [
    "mort_scaling = np.array([baseline_mortality_rate[i]/baseline_mortality_rate[0] for i in range(6)])\n",
    "mort_scaling"
   ]
  },
  {
   "cell_type": "code",
   "execution_count": 11,
   "metadata": {},
   "outputs": [],
   "source": [
    "mortalities_approx = np.zeros(shape=(51, 6, 88))\n",
    "states = list(delphi_df.index.unique())\n",
    "\n",
    "for t in range(88):\n",
    "    for i in range(51):\n",
    "        delphi_mort = delphi_df.iloc[i]['mortality_rate'] * \\\n",
    "        (1 + 2/np.pi * np.arctan(-(100+t)/20 * delphi_df.iloc[i]['mortality_rate_decay']) )\n",
    "\n",
    "        small_mort = delphi_mort/(np.dot(mort_scaling, pop_mat[i, :]) / sum(pop_mat[i, :]))\n",
    "\n",
    "        pred_morts = mort_scaling * small_mort\n",
    "        mortalities_approx[i, :, t] = pred_morts"
   ]
  },
  {
   "cell_type": "code",
   "execution_count": 46,
   "metadata": {},
   "outputs": [],
   "source": [
    "# np.save('mortality-rates-2021-heur.npy', mortalities_approx)"
   ]
  },
  {
   "cell_type": "code",
   "execution_count": 14,
   "metadata": {},
   "outputs": [
    {
     "data": {
      "text/plain": [
       "0.10655545057165831"
      ]
     },
     "execution_count": 14,
     "metadata": {},
     "output_type": "execute_result"
    }
   ],
   "source": [
    "mortalities_approx[45, 5, 61]"
   ]
  },
  {
   "cell_type": "code",
   "execution_count": null,
   "metadata": {},
   "outputs": [],
   "source": []
  }
 ],
 "metadata": {
  "kernelspec": {
   "display_name": "Python 3",
   "language": "python",
   "name": "python3"
  },
  "language_info": {
   "codemirror_mode": {
    "name": "ipython",
    "version": 3
   },
   "file_extension": ".py",
   "mimetype": "text/x-python",
   "name": "python",
   "nbconvert_exporter": "python",
   "pygments_lexer": "ipython3",
   "version": "3.8.5"
  }
 },
 "nbformat": 4,
 "nbformat_minor": 4
}
