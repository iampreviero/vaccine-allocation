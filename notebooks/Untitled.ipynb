{
 "cells": [
  {
   "cell_type": "code",
   "execution_count": 18,
   "metadata": {},
   "outputs": [],
   "source": [
    "import pandas as pd\n",
    "import numpy as np\n",
    "import us"
   ]
  },
  {
   "cell_type": "code",
   "execution_count": 19,
   "metadata": {},
   "outputs": [],
   "source": [
    "data = pd.read_csv('/Users/alessandropreviero/Desktop/vaccine-allocation/data/inputs/population.csv')\n",
    "county_pop = pd.read_csv('/Users/alessandropreviero/Desktop/vaccine-allocation/data/inputs/county_pop_clean.csv')\n"
   ]
  },
  {
   "cell_type": "code",
   "execution_count": 20,
   "metadata": {},
   "outputs": [],
   "source": [
    "states = list(county_pop.state.unique())"
   ]
  },
  {
   "cell_type": "code",
   "execution_count": 21,
   "metadata": {},
   "outputs": [],
   "source": [
    "RISK_CLASSES = [\n",
    "    dict(min_age=0.0, max_age=9.0),\n",
    "    dict(min_age=10.0, max_age=49.0),\n",
    "    dict(min_age=50.0, max_age=59.0),\n",
    "    dict(min_age=60.0, max_age=69.0),\n",
    "    dict(min_age=70.0, max_age=79.0),\n",
    "    dict(min_age=80.0, max_age=np.inf)\n",
    "]\n",
    "\n",
    "def get_population_by_state_and_risk_class(pop_df, county_pop) -> np.ndarray:\n",
    "    states = list(county_pop.state.unique())\n",
    "    population = np.zeros((len(states), len(RISK_CLASSES)))\n",
    "    for j, state in enumerate(states):\n",
    "        \n",
    "        state = us.states.lookup(state).name\n",
    "        for k, risk_class in enumerate(RISK_CLASSES):\n",
    "            population[j, k] = pop_df[\n",
    "                (pop_df[\"min_age\"] >= risk_class[\"min_age\"])\n",
    "                & (pop_df[\"max_age\"] <= risk_class[\"max_age\"])\n",
    "                & (pop_df[\"state\"] == state)\n",
    "                ][\"population\"].sum()\n",
    "    return population"
   ]
  },
  {
   "cell_type": "code",
   "execution_count": 23,
   "metadata": {},
   "outputs": [],
   "source": [
    "mat = get_population_by_state_and_risk_class(data, county_pop)"
   ]
  },
  {
   "cell_type": "code",
   "execution_count": 24,
   "metadata": {},
   "outputs": [],
   "source": [
    "mat = mat.sum(axis=1)"
   ]
  },
  {
   "cell_type": "code",
   "execution_count": 27,
   "metadata": {},
   "outputs": [],
   "source": [
    "pops = list(mat)"
   ]
  },
  {
   "cell_type": "code",
   "execution_count": 29,
   "metadata": {},
   "outputs": [
    {
     "name": "stdout",
     "output_type": "stream",
     "text": [
      "(737438.0, 'AK')\n",
      "(4887871.0, 'AL')\n",
      "(3013825.0, 'AR')\n",
      "(7171646.0, 'AZ')\n",
      "(39557045.0, 'CA')\n",
      "(5695564.0, 'CO')\n",
      "(3572665.0, 'CT')\n",
      "(702455.0, 'DC')\n",
      "(967171.0, 'DE')\n",
      "(21299325.0, 'FL')\n",
      "(10519475.0, 'GA')\n",
      "(1420491.0, 'HI')\n",
      "(3156145.0, 'IA')\n",
      "(1754208.0, 'ID')\n",
      "(12741080.0, 'IL')\n",
      "(6691878.0, 'IN')\n",
      "(2911505.0, 'KS')\n",
      "(4468402.0, 'KY')\n",
      "(4659978.0, 'LA')\n",
      "(6902149.0, 'MA')\n",
      "(6042718.0, 'MD')\n",
      "(1338404.0, 'ME')\n",
      "(9995915.0, 'MI')\n",
      "(5611179.0, 'MN')\n",
      "(6126452.0, 'MO')\n",
      "(2986530.0, 'MS')\n",
      "(1062305.0, 'MT')\n",
      "(10383620.0, 'NC')\n",
      "(760077.0, 'ND')\n",
      "(1929268.0, 'NE')\n",
      "(1356458.0, 'NH')\n",
      "(8908520.0, 'NJ')\n",
      "(2095428.0, 'NM')\n",
      "(3034392.0, 'NV')\n",
      "(19542209.0, 'NY')\n",
      "(11689442.0, 'OH')\n",
      "(3943079.0, 'OK')\n",
      "(4190713.0, 'OR')\n",
      "(12807060.0, 'PA')\n",
      "(1057315.0, 'RI')\n",
      "(5084127.0, 'SC')\n",
      "(882235.0, 'SD')\n",
      "(6770010.0, 'TN')\n",
      "(28701845.0, 'TX')\n",
      "(3161105.0, 'UT')\n",
      "(8517685.0, 'VA')\n",
      "(626299.0, 'VT')\n",
      "(7535591.0, 'WA')\n",
      "(5813568.0, 'WI')\n",
      "(1805832.0, 'WV')\n",
      "(577737.0, 'WY')\n"
     ]
    }
   ],
   "source": [
    "for i in zip(pops, states):\n",
    "    print(i)"
   ]
  },
  {
   "cell_type": "code",
   "execution_count": null,
   "metadata": {},
   "outputs": [],
   "source": []
  }
 ],
 "metadata": {
  "kernelspec": {
   "display_name": "Python 3",
   "language": "python",
   "name": "python3"
  },
  "language_info": {
   "codemirror_mode": {
    "name": "ipython",
    "version": 3
   },
   "file_extension": ".py",
   "mimetype": "text/x-python",
   "name": "python",
   "nbconvert_exporter": "python",
   "pygments_lexer": "ipython3",
   "version": "3.8.5"
  }
 },
 "nbformat": 4,
 "nbformat_minor": 4
}
