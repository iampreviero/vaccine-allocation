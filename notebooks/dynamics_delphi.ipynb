{
 "cells": [
  {
   "cell_type": "code",
   "execution_count": 6,
   "metadata": {},
   "outputs": [
    {
     "name": "stdout",
     "output_type": "stream",
     "text": [
      "/Users/alessandropreviero/Desktop/vaccine-allocation/src\n"
     ]
    }
   ],
   "source": [
    "cd /Users/alessandropreviero/Desktop/vaccine-allocation/src"
   ]
  },
  {
   "cell_type": "code",
   "execution_count": 7,
   "metadata": {},
   "outputs": [],
   "source": [
    "import pandas as pd\n",
    "import numpy as np\n",
    "import datetime as dt\n",
    "import plotly.graph_objects as go\n",
    "import plotly.express as px\n",
    "import us\n",
    "import os"
   ]
  },
  {
   "cell_type": "code",
   "execution_count": 8,
   "metadata": {},
   "outputs": [],
   "source": [
    "import main\n",
    "from models.prescriptive_delphi_model import *\n",
    "from pipeline.data_loading import *\n",
    "from pipeline.data_processing import *\n",
    "from pipeline.constants import *\n",
    "from pipeline.scenario import *"
   ]
  },
  {
   "cell_type": "code",
   "execution_count": 24,
   "metadata": {},
   "outputs": [],
   "source": [
    "scenario_params_grid = [\n",
    "        dict(\n",
    "            **dates,\n",
    "            vaccine_effectiveness=vaccine_effectiveness,\n",
    "            daily_vaccine_budget=daily_vaccine_budget,\n",
    "            min_allocation_factor=min_allocation_factor\n",
    "        )\n",
    "        for dates in DATES_GRID\n",
    "        for vaccine_effectiveness in VACCINE_EFFECTIVENESS_GRID\n",
    "        for daily_vaccine_budget in DAILY_VACCINE_BUDGET_GRID\n",
    "        for min_allocation_factor in MIN_ALLOCATION_FACTOR_GRID\n",
    "    ]\n",
    "\n",
    "scenario_params = scenario_params_grid[0]\n",
    "\n",
    "start_date = scenario_params[\"start_date\"]\n",
    "end_date = scenario_params[\"start_date\"]\n",
    "mortality_rate_path = f\"{MORTALITY_RATES_PATH}2021-base.npy\"\n",
    "reload_mortality_rate = os.path.isfile(mortality_rate_path)\n",
    "\n",
    "model = Scenario(**scenario_params).load_model(\n",
    "    mortality_rate_path=mortality_rate_path\n",
    ")\n",
    "\n",
    "fake_vaccines = np.zeros(shape=(51, 6, 91))\n",
    "solution = model.simulate(vaccinated=fake_vaccines)"
   ]
  },
  {
   "cell_type": "code",
   "execution_count": 25,
   "metadata": {},
   "outputs": [
    {
     "data": {
      "text/plain": [
       "137248.5320956391"
      ]
     },
     "execution_count": 25,
     "metadata": {},
     "output_type": "execute_result"
    }
   ],
   "source": [
    "solution.deceased[:,:,-1].sum()"
   ]
  },
  {
   "cell_type": "code",
   "execution_count": 10,
   "metadata": {},
   "outputs": [],
   "source": [
    "predictions_df = load_and_clean_delphi_predictions(DELPHI_PREDICTIONS_PATH)"
   ]
  },
  {
   "cell_type": "code",
   "execution_count": 15,
   "metadata": {},
   "outputs": [],
   "source": [
    "first = predictions_df[predictions_df.date == dt.datetime(2021, 1, 30)]['total_detected_deaths'].sum()"
   ]
  },
  {
   "cell_type": "code",
   "execution_count": 16,
   "metadata": {},
   "outputs": [],
   "source": [
    "final = predictions_df[predictions_df.date == dt.datetime(2021, 4, 30)]['total_detected_deaths'].sum()"
   ]
  },
  {
   "cell_type": "code",
   "execution_count": 17,
   "metadata": {},
   "outputs": [
    {
     "data": {
      "text/plain": [
       "181068.12860906305"
      ]
     },
     "execution_count": 17,
     "metadata": {},
     "output_type": "execute_result"
    }
   ],
   "source": [
    "final - first"
   ]
  }
 ],
 "metadata": {
  "kernelspec": {
   "display_name": "Python 3",
   "language": "python",
   "name": "python3"
  },
  "language_info": {
   "codemirror_mode": {
    "name": "ipython",
    "version": 3
   },
   "file_extension": ".py",
   "mimetype": "text/x-python",
   "name": "python",
   "nbconvert_exporter": "python",
   "pygments_lexer": "ipython3",
   "version": "3.8.5"
  }
 },
 "nbformat": 4,
 "nbformat_minor": 4
}
