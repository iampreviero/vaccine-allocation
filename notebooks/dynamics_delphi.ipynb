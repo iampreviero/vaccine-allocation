{
 "cells": [
  {
   "cell_type": "code",
   "execution_count": 2,
   "metadata": {},
   "outputs": [
    {
     "name": "stdout",
     "output_type": "stream",
     "text": [
      "/Users/alessandropreviero/Desktop/vaccine-allocation/src\n"
     ]
    }
   ],
   "source": [
    "cd /Users/alessandropreviero/Desktop/vaccine-allocation/src"
   ]
  },
  {
   "cell_type": "code",
   "execution_count": 3,
   "metadata": {},
   "outputs": [],
   "source": [
    "import pandas as pd\n",
    "import numpy as np\n",
    "import datetime as dt\n",
    "import plotly.graph_objects as go\n",
    "import plotly.express as px\n",
    "import us\n",
    "import os"
   ]
  },
  {
   "cell_type": "code",
   "execution_count": 4,
   "metadata": {},
   "outputs": [],
   "source": [
    "import main\n",
    "from models.prescriptive_delphi_model import *\n",
    "from pipeline.data_loading import *\n",
    "from pipeline.data_processing import *\n",
    "from pipeline.constants import *\n",
    "from pipeline.scenario import *"
   ]
  },
  {
   "cell_type": "code",
   "execution_count": 7,
   "metadata": {},
   "outputs": [],
   "source": [
    "scenario_params_grid = [\n",
    "        dict(\n",
    "            **dates,\n",
    "            vaccine_effectiveness=vaccine_effectiveness,\n",
    "            daily_vaccine_budget=daily_vaccine_budget,\n",
    "            min_allocation_factor=min_allocation_factor\n",
    "        )\n",
    "        for dates in DATES_GRID\n",
    "        for vaccine_effectiveness in VACCINE_EFFECTIVENESS_GRID\n",
    "        for daily_vaccine_budget in DAILY_VACCINE_BUDGET_GRID\n",
    "        for min_allocation_factor in MIN_ALLOCATION_FACTOR_GRID\n",
    "    ]\n",
    "\n",
    "scenario_params = scenario_params_grid[0]\n",
    "\n",
    "start_date = scenario_params[\"start_date\"]\n",
    "end_date = scenario_params[\"end_date\"]\n",
    "mortality_rate_path = f\"{MORTALITY_RATES_PATH}2021.npy\"\n",
    "reload_mortality_rate = os.path.isfile(mortality_rate_path)\n",
    "\n",
    "model = Scenario(**scenario_params).load_model(\n",
    "    mortality_rate_path=mortality_rate_path\n",
    ")\n",
    "\n",
    "fake_vaccines = np.zeros(shape=(51, 6, 91))\n",
    "solution = model.simulate(vaccinated=fake_vaccines)"
   ]
  },
  {
   "cell_type": "code",
   "execution_count": 8,
   "metadata": {},
   "outputs": [
    {
     "data": {
      "text/plain": [
       "70902.81254085636"
      ]
     },
     "execution_count": 8,
     "metadata": {},
     "output_type": "execute_result"
    }
   ],
   "source": [
    "deaths = solution.deceased[:,:,-1].sum(axis=1)\n",
    "deaths.sum()"
   ]
  },
  {
   "cell_type": "code",
   "execution_count": 16,
   "metadata": {},
   "outputs": [],
   "source": [
    "deaths = solution.deceased[:,:,-1].sum(axis=1)\n",
    "states = pd.read_csv('/Users/alessandropreviero/Desktop/vaccine-allocation/data/inputs/county_pop_clean.csv')\n",
    "states_names = states['state'].unique()\n",
    "deaths_no_vaccines = pd.DataFrame(deaths, columns=['deaths'])\n",
    "deaths_no_vaccines['state'] = [us.states.lookup(x).name for x in states_names]\n",
    "deaths_no_vaccines.to_csv(\"deaths_no_vaccines.csv\")"
   ]
  }
 ],
 "metadata": {
  "kernelspec": {
   "display_name": "Python 3",
   "language": "python",
   "name": "python3"
  },
  "language_info": {
   "codemirror_mode": {
    "name": "ipython",
    "version": 3
   },
   "file_extension": ".py",
   "mimetype": "text/x-python",
   "name": "python",
   "nbconvert_exporter": "python",
   "pygments_lexer": "ipython3",
   "version": "3.8.5"
  }
 },
 "nbformat": 4,
 "nbformat_minor": 4
}
