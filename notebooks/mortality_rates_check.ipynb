{
 "cells": [
  {
   "cell_type": "code",
   "execution_count": 1,
   "metadata": {},
   "outputs": [],
   "source": [
    "import pandas as pd\n",
    "import numpy as np\n",
    "import datetime as dt\n",
    "import plotly.graph_objects as go\n",
    "import plotly.express as px\n",
    "import us"
   ]
  },
  {
   "cell_type": "code",
   "execution_count": 2,
   "metadata": {},
   "outputs": [],
   "source": [
    "mortality_path = '/Users/alessandropreviero/Desktop/vaccine-allocation/data/outputs/mortality-rates-2021.npy'\n",
    "mortality_m = np.load(mortality_path)"
   ]
  },
  {
   "cell_type": "code",
   "execution_count": 3,
   "metadata": {},
   "outputs": [],
   "source": [
    "cdc_dir = '/Users/alessandropreviero/Desktop/vaccine-allocation/data/inputs/cdc-data.csv'\n",
    "predictions_dir = '/Users/alessandropreviero/Desktop/vaccine-allocation/data/inputs/delphi-predictions.csv'"
   ]
  },
  {
   "cell_type": "code",
   "execution_count": 4,
   "metadata": {},
   "outputs": [],
   "source": [
    "def load_and_clean_delphi_predictions(path: str) -> pd.DataFrame:\n",
    "    # Load data from CSV file\n",
    "    df = pd.read_csv(path)\n",
    "\n",
    "    # Filter down to US only\n",
    "    df = df[\n",
    "        (df[\"Country\"] == \"US\")\n",
    "        & (df[\"Province\"] != \"None\")\n",
    "    ]\n",
    "\n",
    "    # Aggregate intermediary state\n",
    "    df[\"recovering\"] = df[[\"AR\", \"DHR\", \"DQR\"]].sum(1)\n",
    "    df[\"dying\"] = df[[\"AD\", \"DHD\", \"DQD\"]].sum(1)\n",
    "\n",
    "    # Select relevant columns and rename\n",
    "    df = df[\n",
    "        [\n",
    "            \"Province\",\n",
    "            \"Day\",\n",
    "            \"S\",\n",
    "            \"E\",\n",
    "            \"I\",\n",
    "            \"R\",\n",
    "            \"D\",\n",
    "            \"DT\",\n",
    "            \"DD\",\n",
    "            \"recovering\",\n",
    "            \"dying\"\n",
    "        ]\n",
    "    ].rename(\n",
    "        columns={\n",
    "            \"Province\": \"state\",\n",
    "            \"Day\": \"date\",\n",
    "            \"S\": \"susceptible\",\n",
    "            \"E\": \"exposed\",\n",
    "            \"I\": \"infectious\",\n",
    "            \"R\": \"recovered\",\n",
    "            \"D\": \"deceased\",\n",
    "            \"DT\": \"total_detected_cases\",\n",
    "            \"DD\": \"total_detected_deaths\",\n",
    "        }\n",
    "    )\n",
    "\n",
    "    # Cast date column as datetime object\n",
    "    df[\"date\"] = pd.to_datetime(df[\"date\"])\n",
    "\n",
    "    return df"
   ]
  },
  {
   "cell_type": "code",
   "execution_count": 5,
   "metadata": {},
   "outputs": [],
   "source": [
    "RISK_CLASSES = [\n",
    "    dict(min_age=0.0, max_age=9.0),\n",
    "    dict(min_age=10.0, max_age=49.0),\n",
    "    dict(min_age=50.0, max_age=59.0),\n",
    "    dict(min_age=60.0, max_age=69.0),\n",
    "    dict(min_age=70.0, max_age=79.0),\n",
    "    dict(min_age=80.0, max_age=np.inf)\n",
    "]\n",
    "RESCALE_BASELINE = True\n",
    "N_RISK_CLASSES = 6\n",
    "\n",
    "def get_baseline_mortality_rate_estimates(\n",
    "        cdc_df: pd.DataFrame,\n",
    "        predictions_df: pd.DataFrame,\n",
    "        start_date: dt.datetime,\n",
    "        end_date: dt.datetime,\n",
    ") -> np.ndarray:\n",
    "    # Compute rescaling factor\n",
    "    predicted_cases, predicted_deaths = predictions_df[\n",
    "        (predictions_df[\"date\"] >= start_date)\n",
    "        & (predictions_df[\"date\"] <= end_date)\n",
    "        ][[\"total_detected_cases\", \"total_detected_deaths\"]].max()\n",
    "    cdc_mortality_rate = (cdc_df[\"deaths\"].sum() / cdc_df[\"cases\"].sum())\n",
    "    delphi_mortality_rate = predicted_deaths / predicted_cases\n",
    "    rescaling_factor = delphi_mortality_rate / cdc_mortality_rate if RESCALE_BASELINE else 1.0\n",
    "\n",
    "    # Compute baseline mortality rates\n",
    "    baseline_mortality_rate = np.zeros(N_RISK_CLASSES)\n",
    "    for k, risk_class in enumerate(RISK_CLASSES):\n",
    "        cases, deaths = cdc_df[\n",
    "            (cdc_df[\"min_age\"] >= risk_class[\"min_age\"])\n",
    "            & (cdc_df[\"max_age\"] <= risk_class[\"max_age\"])\n",
    "            ][[\"cases\", \"deaths\"]].sum()\n",
    "        baseline_mortality_rate[k] = deaths / cases * rescaling_factor\n",
    "    return baseline_mortality_rate"
   ]
  },
  {
   "cell_type": "code",
   "execution_count": 6,
   "metadata": {},
   "outputs": [],
   "source": [
    "predictions_df = load_and_clean_delphi_predictions(predictions_dir)\n",
    "cdc_df = pd.read_csv(cdc_dir)\n",
    "start_date = dt.datetime(2021, 1, 30)\n",
    "end_date = dt.datetime(2021, 4, 30)"
   ]
  },
  {
   "cell_type": "code",
   "execution_count": 8,
   "metadata": {},
   "outputs": [
    {
     "data": {
      "text/plain": [
       "array([7.29949255e-03, 1.14570647e-01, 8.47606558e-01, 2.18148436e+00,\n",
       "       5.85956893e+00, 1.44331664e+01])"
      ]
     },
     "execution_count": 8,
     "metadata": {},
     "output_type": "execute_result"
    }
   ],
   "source": [
    "base_mort = get_baseline_mortality_rate_estimates(cdc_df, predictions_df, start_date, end_date)\n",
    "base_mort * 100"
   ]
  },
  {
   "cell_type": "code",
   "execution_count": 23,
   "metadata": {},
   "outputs": [
    {
     "data": {
      "text/plain": [
       "(51, 6, 91)"
      ]
     },
     "execution_count": 23,
     "metadata": {},
     "output_type": "execute_result"
    }
   ],
   "source": [
    "\n",
    "\n",
    "\n",
    "final_mort = np.tile(base_mort, 51)\n",
    "final_mort = np.reshape(final_mort, (51, 6))\n",
    "final_mort = np.repeat(final_mort, 91, axis=1)\n",
    "final_mort = np.reshape(final_mort, (51, 6, 91))\n",
    "final_mort.shape"
   ]
  }
 ],
 "metadata": {
  "kernelspec": {
   "display_name": "Python 3",
   "language": "python",
   "name": "python3"
  },
  "language_info": {
   "codemirror_mode": {
    "name": "ipython",
    "version": 3
   },
   "file_extension": ".py",
   "mimetype": "text/x-python",
   "name": "python",
   "nbconvert_exporter": "python",
   "pygments_lexer": "ipython3",
   "version": "3.8.5"
  }
 },
 "nbformat": 4,
 "nbformat_minor": 4
}
