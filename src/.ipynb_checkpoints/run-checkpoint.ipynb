{
 "cells": [
  {
   "cell_type": "markdown",
   "metadata": {},
   "source": [
    "## Interactively running scenaria"
   ]
  },
  {
   "cell_type": "code",
   "execution_count": null,
   "metadata": {},
   "outputs": [],
   "source": [
    "import pandas as pd\n",
    "import os\n",
    "import pickle\n",
    "\n",
    "from pipeline.scenario import Scenario\n",
    "from pipeline.constants import *"
   ]
  },
  {
   "cell_type": "code",
   "execution_count": null,
   "metadata": {},
   "outputs": [],
   "source": [
    "scenario_params_grid = [\n",
    "                        dict(\n",
    "                            **dates,\n",
    "                            vaccine_effectiveness=vaccine_effectiveness,\n",
    "                            daily_vaccine_budget=daily_vaccine_budget,\n",
    "                            min_allocation_factor=min_allocation_factor,\n",
    "                            balanced_location=balanced_location\n",
    "                        )\n",
    "                        for dates in DATES_GRID\n",
    "                        for vaccine_effectiveness in VACCINE_EFFECTIVENESS_GRID\n",
    "                        for daily_vaccine_budget in DAILY_VACCINE_BUDGET_GRID\n",
    "                        for min_allocation_factor in MIN_ALLOCATION_FACTOR_GRID\n",
    "                        for balanced_location in BALANCED_LOCATIONS_GRID\n",
    "                    ]"
   ]
  },
  {
   "cell_type": "code",
   "execution_count": null,
   "metadata": {},
   "outputs": [],
   "source": [
    "for i, scenario_params in enumerate(scenario_params_grid):\n",
    "    \n",
    "    print(\"Scenario\",i)\n",
    "\n",
    "    start_date = scenario_params[\"start_date\"]\n",
    "    end_date = scenario_params[\"start_date\"]\n",
    "    mortality_rate_path = f\"{MORTALITY_RATES_PATH}2021-base.npy\"\n",
    "    reload_mortality_rate = os.path.isfile(mortality_rate_path)\n",
    "\n",
    "    baseline_obj_val, optimized_obj_val = Scenario(**scenario_params).run(\n",
    "        model_path=f\"{MODEL_PATH_PATH}{i}.pickle\",\n",
    "        baseline_solution_path=f\"{BASELINE_SOLUTION_PATH}{i}.pickle\",\n",
    "        optimized_solution_path=f\"{OPTIMIZED_SOLUTION_ATH}{i}.pickle\",\n",
    "        mortality_rate_path=mortality_rate_path,\n",
    "        reload_mortality_rate=reload_mortality_rate\n",
    "    )\n",
    "    scenario_params[\"baseline_obj_val\"] = baseline_obj_val\n",
    "    scenario_params[\"optimized_obj_val\"] = optimized_obj_val\n",
    "\n",
    "results = pd.DataFrame(scenario_params_grid)\n",
    "results[\"abs_improvement\"] = results[\"baseline_obj_val\"] - results[\"optimized_obj_val\"]\n",
    "results[\"pct_improvement\"] = results[\"abs_improvement\"] / results[\"baseline_obj_val\"] * 1e2\n",
    "results.to_csv(RESULTS_PATH)"
   ]
  },
  {
   "cell_type": "code",
   "execution_count": null,
   "metadata": {},
   "outputs": [],
   "source": [
    "population = pd.read_csv(POPULATION_DATA_PATH)\n",
    "states = population['state'].unique()\n",
    "\n",
    "baseline_solutions = []\n",
    "optimized_solutions = []\n",
    "\n",
    "for i in range(len(scenario_params_grid)):\n",
    "    baseline_solution_path=f\"{BASELINE_SOLUTION_PATH}{i}.pickle\"\n",
    "    baseline_solutions.append(pickle.load(open(baseline_solution_path, \"rb\")))\n",
    "    optimized_solution_path=f\"{OPTIMIZED_SOLUTION_ATH}{i}.pickle\"\n",
    "    optimized_solutions.append(pickle.load(open(optimized_solution_path, \"rb\")))\n",
    "    print(\"\\n=====\")\n",
    "    print(\"Scenario\", i)\n",
    "    print([(optimized_solutions[i].locations[j], states[j]) for j in range(len(states))])\n",
    "    print(optimized_solutions[i].get_total_deaths(), baseline_solutions[i].get_total_deaths())\n",
    "    "
   ]
  },
  {
   "cell_type": "code",
   "execution_count": null,
   "metadata": {},
   "outputs": [],
   "source": [
    "V = optimized_solutions[0].vaccinated\n",
    "print(np.nansum(V), V.shape[2]*0.6e6)\n",
    "\n",
    "for t in range(V.shape[2]):\n",
    "    print(V[:, :, t].sum())"
   ]
  },
  {
   "cell_type": "code",
   "execution_count": null,
   "metadata": {},
   "outputs": [],
   "source": []
  }
 ],
 "metadata": {
  "kernelspec": {
   "display_name": "Python 3",
   "language": "python",
   "name": "python3"
  },
  "language_info": {
   "codemirror_mode": {
    "name": "ipython",
    "version": 3
   },
   "file_extension": ".py",
   "mimetype": "text/x-python",
   "name": "python",
   "nbconvert_exporter": "python",
   "pygments_lexer": "ipython3",
   "version": "3.7.4"
  }
 },
 "nbformat": 4,
 "nbformat_minor": 2
}
